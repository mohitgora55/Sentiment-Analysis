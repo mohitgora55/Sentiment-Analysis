{
 "cells": [
  {
   "cell_type": "code",
   "execution_count": 1,
   "metadata": {
    "colab": {
     "autoexec": {
      "startup": false,
      "wait_interval": 0
     },
     "base_uri": "https://localhost:8080/",
     "height": 238,
     "output_extras": [
      {
       "item_id": 1
      }
     ]
    },
    "colab_type": "code",
    "executionInfo": {
     "elapsed": 4948,
     "status": "ok",
     "timestamp": 1521555309252,
     "user": {
      "displayName": "Ala Bayoudh",
      "photoUrl": "https://lh3.googleusercontent.com/a/default-user=s128",
      "userId": "112506902794522806974"
     },
     "user_tz": -120
    },
    "id": "k2YrqT9OPT8m",
    "outputId": "e0441abc-00a7-4f24-ab22-6f06fe08c389"
   },
   "outputs": [
    {
     "data": {
      "text/plain": [
       "[name: \"/device:CPU:0\"\n",
       " device_type: \"CPU\"\n",
       " memory_limit: 268435456\n",
       " locality {\n",
       " }\n",
       " incarnation: 1444882117057841005]"
      ]
     },
     "execution_count": 1,
     "metadata": {},
     "output_type": "execute_result"
    }
   ],
   "source": [
    "from tensorflow.python.client import device_lib\n",
    "device_lib.list_local_devices()"
   ]
  },
  {
   "cell_type": "code",
   "execution_count": 2,
   "metadata": {
    "colab": {
     "autoexec": {
      "startup": false,
      "wait_interval": 0
     },
     "base_uri": "https://localhost:8080/",
     "height": 343,
     "output_extras": [
      {
       "item_id": 2
      }
     ]
    },
    "colab_type": "code",
    "executionInfo": {
     "elapsed": 2927,
     "status": "ok",
     "timestamp": 1521555314315,
     "user": {
      "displayName": "Ala Bayoudh",
      "photoUrl": "https://lh3.googleusercontent.com/a/default-user=s128",
      "userId": "112506902794522806974"
     },
     "user_tz": -120
    },
    "id": "2vaAfxgwxbhC",
    "outputId": "24afc89d-2e82-4aa1-ba9f-d09befa384c4"
   },
   "outputs": [],
   "source": [
    "#!pip install gensim\n",
    "import gensim, logging\n",
    "from gensim.models.word2vec import Word2Vec "
   ]
  },
  {
   "cell_type": "code",
   "execution_count": 8,
   "metadata": {
    "colab": {
     "autoexec": {
      "startup": false,
      "wait_interval": 0
     },
     "base_uri": "https://localhost:8080/",
     "height": 170,
     "output_extras": [
      {
       "item_id": 5
      }
     ]
    },
    "colab_type": "code",
    "executionInfo": {
     "elapsed": 12597,
     "status": "ok",
     "timestamp": 1521555327479,
     "user": {
      "displayName": "Ala Bayoudh",
      "photoUrl": "https://lh3.googleusercontent.com/a/default-user=s128",
      "userId": "112506902794522806974"
     },
     "user_tz": -120
    },
    "id": "TYWMYqoAVui6",
    "outputId": "372221c2-8add-4879-d415-ad4f878519e5"
   },
   "outputs": [
    {
     "ename": "ModuleNotFoundError",
     "evalue": "No module named 'google.colab'",
     "output_type": "error",
     "traceback": [
      "\u001b[0;31m---------------------------------------------------------------------------\u001b[0m",
      "\u001b[0;31mModuleNotFoundError\u001b[0m                       Traceback (most recent call last)",
      "\u001b[0;32m<ipython-input-8-693b6face26a>\u001b[0m in \u001b[0;36m<module>\u001b[0;34m\u001b[0m\n\u001b[1;32m      4\u001b[0m \u001b[0;32mfrom\u001b[0m \u001b[0mpydrive\u001b[0m\u001b[0;34m.\u001b[0m\u001b[0mauth\u001b[0m \u001b[0;32mimport\u001b[0m \u001b[0mGoogleAuth\u001b[0m\u001b[0;34m\u001b[0m\u001b[0;34m\u001b[0m\u001b[0m\n\u001b[1;32m      5\u001b[0m \u001b[0;32mfrom\u001b[0m \u001b[0mpydrive\u001b[0m\u001b[0;34m.\u001b[0m\u001b[0mdrive\u001b[0m \u001b[0;32mimport\u001b[0m \u001b[0mGoogleDrive\u001b[0m\u001b[0;34m\u001b[0m\u001b[0;34m\u001b[0m\u001b[0m\n\u001b[0;32m----> 6\u001b[0;31m \u001b[0;32mfrom\u001b[0m \u001b[0mgoogle\u001b[0m\u001b[0;34m.\u001b[0m\u001b[0mcolab\u001b[0m \u001b[0;32mimport\u001b[0m \u001b[0mauth\u001b[0m\u001b[0;34m\u001b[0m\u001b[0;34m\u001b[0m\u001b[0m\n\u001b[0m\u001b[1;32m      7\u001b[0m \u001b[0;32mfrom\u001b[0m \u001b[0moauth2client\u001b[0m\u001b[0;34m.\u001b[0m\u001b[0mclient\u001b[0m \u001b[0;32mimport\u001b[0m \u001b[0mGoogleCredentials\u001b[0m\u001b[0;34m\u001b[0m\u001b[0;34m\u001b[0m\u001b[0m\n\u001b[1;32m      8\u001b[0m \u001b[0;32mimport\u001b[0m \u001b[0mpickle\u001b[0m\u001b[0;34m\u001b[0m\u001b[0;34m\u001b[0m\u001b[0m\n",
      "\u001b[0;31mModuleNotFoundError\u001b[0m: No module named 'google.colab'"
     ]
    }
   ],
   "source": [
    "#!pip install -U -q PyDrive\n",
    "#!pip install pickle\n",
    "import os\n",
    "from pydrive.auth import GoogleAuth\n",
    "from pydrive.drive import GoogleDrive\n",
    "from google.colab import auth\n",
    "from oauth2client.client import GoogleCredentials\n",
    "import pickle\n",
    "\n",
    "# 1. Authenticate and create the PyDrive client.\n",
    "auth.authenticate_user()\n",
    "gauth = GoogleAuth()\n",
    "gauth.credentials = GoogleCredentials.get_application_default()\n",
    "drive = GoogleDrive(gauth)\n",
    "\n",
    "# choose a local (colab) directory to store the data.\n",
    "local_download_path = os.path.expanduser('~/data')\n",
    "try:\n",
    "  os.makedirs(local_download_path)\n",
    "except: pass\n",
    "\n",
    "# 2. Auto-iterate using the query syntax\n",
    "#    https://developers.google.com/drive/v2/web/search-parameters\n",
    "file_list = drive.ListFile(\n",
    "    {'q': \"'1S96PP4Pe_LxahlU-Co8foL2DzZE2bKo9' in parents\"}).GetList()\n",
    "\n",
    "for f in file_list:\n",
    "  # 3. Create & download by id.\n",
    "  print('title: %s, id: %s' % (f['title'], f['id']))\n",
    "  fname = os.path.join(local_download_path, f['title'])\n",
    "  print('downloading to {}'.format(fname))\n",
    "  f_ = drive.CreateFile({'id': f['id']})\n",
    "  f_.GetContentFile(fname)\n",
    "  if fname == '/content/data/model.bin':\n",
    "    model = Word2Vec.load(fname) #word2vec model\n",
    "  if fname == '/content/data/Documents.pickle':\n",
    "    with open(fname, 'rb') as f:\n",
    "      Documents = pickle.load(f)\n",
    "  \n",
    "    \n",
    "\n"
   ]
  },
  {
   "cell_type": "markdown",
   "metadata": {
    "colab_type": "text",
    "id": "wPeyAm5iymxk"
   },
   "source": [
    "# Load model Word2Vec"
   ]
  },
  {
   "cell_type": "code",
   "execution_count": 5,
   "metadata": {
    "colab": {
     "autoexec": {
      "startup": false,
      "wait_interval": 0
     },
     "base_uri": "https://localhost:8080/",
     "height": 360,
     "output_extras": [
      {
       "item_id": 1
      },
      {
       "item_id": 2
      }
     ]
    },
    "colab_type": "code",
    "executionInfo": {
     "elapsed": 584,
     "status": "ok",
     "timestamp": 1521555339165,
     "user": {
      "displayName": "Ala Bayoudh",
      "photoUrl": "https://lh3.googleusercontent.com/a/default-user=s128",
      "userId": "112506902794522806974"
     },
     "user_tz": -120
    },
    "id": "7wlT9XIAmyLS",
    "outputId": "94694921-e0f8-4b49-a86a-735f0cfb6d97"
   },
   "outputs": [
    {
     "name": "stdout",
     "output_type": "stream",
     "text": [
      "[-1.7942369  -0.33382452  0.5339357  -1.4902467   2.1332428  -1.0774956\n",
      " -0.21262288  0.34546664  0.18661968  0.5688681  -0.42535612 -1.4686878\n",
      "  0.93791354 -2.3718512  -0.70141095 -0.9795086  -0.20312025 -1.0589772\n",
      "  0.24206859 -1.1336994   1.6416202  -0.6261653   0.84927803 -0.4769663\n",
      "  0.9985494   2.1509867  -1.1989815  -0.41598585 -0.09528159 -0.7134422\n",
      "  1.7122741   0.5545024   1.277535    1.1946003   0.40057173  0.09237026\n",
      "  0.4424268   1.0867667   0.90509695 -0.19481269  0.91103834  1.1511343\n",
      " -0.06785039 -1.4012144  -1.4653159   2.5017827  -0.34803048  0.43969256\n",
      " -0.88642263  0.0435985   0.38556442 -0.5132431   0.47357002  0.9714809\n",
      " -1.6138848   1.6057731  -1.0455496  -0.12987329 -0.04974201  1.3797334\n",
      " -0.5297085  -1.210395   -0.49806824  2.032588    1.1804183  -0.10756348\n",
      " -0.62049466  0.31814304  0.93198586 -0.41446197 -0.50262237  0.6320385\n",
      "  0.2493732   1.0782746   0.12296637 -0.33538577 -0.5217311  -1.2326243\n",
      " -0.45114192 -1.5398091  -0.46345225  2.1170738   0.02449238 -0.39949843\n",
      "  0.2740543   0.42163128 -0.11416981  1.0085219  -0.1488119  -0.6154405\n",
      " -0.9643602   1.5402884   1.0199872   0.38207138 -0.2976515  -0.10284822\n",
      "  0.42682004  0.0925106  -0.1790923  -0.11463826]\n"
     ]
    },
    {
     "name": "stderr",
     "output_type": "stream",
     "text": [
      "/usr/local/lib/python3.6/dist-packages/ipykernel_launcher.py:1: DeprecationWarning: Call to deprecated `__getitem__` (Method will be removed in 4.0.0, use self.wv.__getitem__() instead).\n",
      "  \"\"\"Entry point for launching an IPython kernel.\n"
     ]
    }
   ],
   "source": [
    "print(model['good'])"
   ]
  },
  {
   "cell_type": "markdown",
   "metadata": {
    "colab_type": "text",
    "id": "Pu3f0AGNz-JS"
   },
   "source": [
    "# Load Document"
   ]
  },
  {
   "cell_type": "code",
   "execution_count": 6,
   "metadata": {
    "colab": {
     "autoexec": {
      "startup": false,
      "wait_interval": 0
     },
     "base_uri": "https://localhost:8080/",
     "height": 34,
     "output_extras": [
      {
       "item_id": 1
      }
     ]
    },
    "colab_type": "code",
    "executionInfo": {
     "elapsed": 1182,
     "status": "ok",
     "timestamp": 1521555341676,
     "user": {
      "displayName": "Ala Bayoudh",
      "photoUrl": "https://lh3.googleusercontent.com/a/default-user=s128",
      "userId": "112506902794522806974"
     },
     "user_tz": -120
    },
    "id": "TPnmuhKgz27I",
    "outputId": "3b42aedf-1c34-480f-afa2-13fc33ed8184"
   },
   "outputs": [
    {
     "name": "stdout",
     "output_type": "stream",
     "text": [
      "(['This', 'cd', 'storage', 'unit', 'isnt', 'greatest', 'cd', 'rack', 'want', 'something', 'job', 'isnt', 'costly', 'thing', 'made', 'plasti'], 'neg')\n"
     ]
    }
   ],
   "source": [
    "print(Documents[1])"
   ]
  },
  {
   "cell_type": "markdown",
   "metadata": {
    "colab_type": "text",
    "id": "yPvYyl110Sse"
   },
   "source": [
    "### Prepare our input this time :\n",
    "-  the Training shape will be (M,100,n) where M is number of **exemple** ,100 each word dimension and n is the number of words in each sentence"
   ]
  },
  {
   "cell_type": "code",
   "execution_count": 7,
   "metadata": {
    "colab": {
     "autoexec": {
      "startup": false,
      "wait_interval": 0
     },
     "base_uri": "https://localhost:8080/",
     "height": 119,
     "output_extras": [
      {
       "item_id": 1
      }
     ]
    },
    "colab_type": "code",
    "executionInfo": {
     "elapsed": 571,
     "status": "ok",
     "timestamp": 1521555343390,
     "user": {
      "displayName": "Ala Bayoudh",
      "photoUrl": "https://lh3.googleusercontent.com/a/default-user=s128",
      "userId": "112506902794522806974"
     },
     "user_tz": -120
    },
    "id": "CZtElchjm0Zk",
    "outputId": "f3ece198-4abe-4fd3-a35b-7309f6c32ce5"
   },
   "outputs": [
    {
     "name": "stdout",
     "output_type": "stream",
     "text": [
      "Max length sentence is : 506 Min length sentence is : 2\n",
      "Sentence with more than 50 word  8366\n",
      "Sentence with more than 100 word  1373\n",
      "Sentence with more than 200 word  92\n",
      "Sentence with more than 300 word  18\n",
      "Sentence with more than 400 word  6\n"
     ]
    }
   ],
   "source": [
    "def get_Max_Min_length_Sent():\n",
    "    Max = 0\n",
    "    Min = 10\n",
    "    CountSup50 = 0\n",
    "    CountSup100 = 0\n",
    "    CountSup200 = 0\n",
    "    CountSup300 = 0\n",
    "    CountSup400 = 0\n",
    "    for S,t in Documents:\n",
    "        if len(S) > Max:\n",
    "            Max = len(S)\n",
    "        if len(S) < Min :\n",
    "            Min = len(S)\n",
    "        if len(S) > 50:\n",
    "            CountSup50 +=1\n",
    "        if len(S) > 100:\n",
    "            CountSup100 +=1\n",
    "        if len(S) >200 :\n",
    "            CountSup200 +=1\n",
    "        if len(S) > 300:\n",
    "            CountSup300 +=1\n",
    "        if len(S) >400 :\n",
    "            CountSup400 +=1\n",
    "            \n",
    "    return Max,Min,CountSup50,CountSup100,CountSup200,CountSup300,CountSup400\n",
    "\n",
    "Max,Min,CountSup50,CountSup100,CountSup200,CountSup300,CountSup400 = get_Max_Min_length_Sent()\n",
    "print(\"Max length sentence is :\",Max,\"Min length sentence is :\",Min)\n",
    "print(\"Sentence with more than 50 word \",CountSup50)\n",
    "print(\"Sentence with more than 100 word \",CountSup100)\n",
    "print(\"Sentence with more than 200 word \",CountSup200)\n",
    "print(\"Sentence with more than 300 word \",CountSup300)\n",
    "print(\"Sentence with more than 400 word \",CountSup400)\n",
    "\n"
   ]
  },
  {
   "cell_type": "markdown",
   "metadata": {
    "colab_type": "text",
    "id": "EdvgVOmh0bEi"
   },
   "source": [
    "### fix_sentence_length is a function to fix the size of sentences to a fixed size to feed them into the neural net with specific length sentences with length less than that will be extended with zeros this process don't affect the alogrithme and sentences with length more that the specified length will be truncated"
   ]
  },
  {
   "cell_type": "code",
   "execution_count": 8,
   "metadata": {
    "colab": {
     "autoexec": {
      "startup": false,
      "wait_interval": 0
     },
     "base_uri": "https://localhost:8080/",
     "height": 54,
     "output_extras": [
      {
       "item_id": 1
      }
     ]
    },
    "colab_type": "code",
    "executionInfo": {
     "elapsed": 560,
     "status": "ok",
     "timestamp": 1521555345133,
     "user": {
      "displayName": "Ala Bayoudh",
      "photoUrl": "https://lh3.googleusercontent.com/a/default-user=s128",
      "userId": "112506902794522806974"
     },
     "user_tz": -120
    },
    "id": "BVqmVN0I0brI",
    "outputId": "239b6c67-11b7-447e-9976-aea994ac266c"
   },
   "outputs": [
    {
     "name": "stdout",
     "output_type": "stream",
     "text": [
      "[2, 5, 4, 8, 7, [0, 0, 0, 0, 0, 0, 0, 0, 0, 0, 0, 0, 0, 0, 0, 0, 0, 0, 0, 0, 0, 0, 0, 0, 0, 0, 0, 0, 0, 0, 0, 0, 0, 0, 0, 0, 0, 0, 0, 0, 0, 0, 0, 0, 0, 0, 0, 0, 0, 0, 0, 0, 0, 0, 0, 0, 0, 0, 0, 0, 0, 0, 0, 0, 0, 0, 0, 0, 0, 0, 0, 0, 0, 0, 0, 0, 0, 0, 0, 0, 0, 0, 0, 0, 0, 0, 0, 0, 0, 0, 0, 0, 0, 0, 0, 0, 0, 0, 0, 0], [0, 0, 0, 0, 0, 0, 0, 0, 0, 0, 0, 0, 0, 0, 0, 0, 0, 0, 0, 0, 0, 0, 0, 0, 0, 0, 0, 0, 0, 0, 0, 0, 0, 0, 0, 0, 0, 0, 0, 0, 0, 0, 0, 0, 0, 0, 0, 0, 0, 0, 0, 0, 0, 0, 0, 0, 0, 0, 0, 0, 0, 0, 0, 0, 0, 0, 0, 0, 0, 0, 0, 0, 0, 0, 0, 0, 0, 0, 0, 0, 0, 0, 0, 0, 0, 0, 0, 0, 0, 0, 0, 0, 0, 0, 0, 0, 0, 0, 0, 0]]\n"
     ]
    }
   ],
   "source": [
    "def fix_sentence_length(length,exemple):\n",
    "    if len(exemple) > length:\n",
    "        exemple = exemple[:length]\n",
    "    elif len(exemple) < length:\n",
    "        for i in range(length - len(exemple)):\n",
    "            listzeros = [0] * 100\n",
    "            exemple.append(listzeros)\n",
    "    return exemple\n",
    "ex = [2,5,4,8,7]\n",
    "ex = fix_sentence_length(7,ex)\n",
    "print(ex) "
   ]
  },
  {
   "cell_type": "code",
   "execution_count": 0,
   "metadata": {
    "colab": {
     "autoexec": {
      "startup": false,
      "wait_interval": 0
     }
    },
    "colab_type": "code",
    "id": "AjZc0AIE0dx2"
   },
   "outputs": [],
   "source": [
    "def Sent_Embeding_sequence(words,Documents):\n",
    "    X_SentsEmb = []\n",
    "    y_SentsEmb = []\n",
    "    #on Va récuperer l'embeding de chaque sentence avec l'average des vecteur qui le compose\n",
    "    for S,t in Documents: #S est la phrase , t est la class\n",
    "        #Average of embeding of all words in sentence\n",
    "        Sent = []\n",
    "        Sent = [list(model[m]) for m in S]\n",
    "#        if len(Sent) < 100:\n",
    "#            for i in range(100 - len(Sent)):\n",
    "#                Sent.append(0) # pour avoir une longeur standart de 100 mots par Sent\n",
    "#        else :\n",
    "#            Sent = Sent[:100]\n",
    "        #Add Sentence Vector to list\n",
    "        Sent = fix_sentence_length(100,Sent)\n",
    "        X_SentsEmb.append(Sent)\n",
    "        #Add label to y_SentEmb\n",
    "        if t == 'neg':\n",
    "            y_SentsEmb.append(0)\n",
    "        elif t == 'pos':\n",
    "            y_SentsEmb.append(1)\n",
    "        else:\n",
    "            print('No match label !!! ',t)\n",
    "    return X_SentsEmb,y_SentsEmb"
   ]
  },
  {
   "cell_type": "code",
   "execution_count": 10,
   "metadata": {
    "colab": {
     "autoexec": {
      "startup": false,
      "wait_interval": 0
     },
     "base_uri": "https://localhost:8080/",
     "height": 71,
     "output_extras": [
      {
       "item_id": 1
      }
     ]
    },
    "colab_type": "code",
    "executionInfo": {
     "elapsed": 40770,
     "status": "ok",
     "timestamp": 1521555387482,
     "user": {
      "displayName": "Ala Bayoudh",
      "photoUrl": "https://lh3.googleusercontent.com/a/default-user=s128",
      "userId": "112506902794522806974"
     },
     "user_tz": -120
    },
    "id": "0xuao2CO0mY2",
    "outputId": "3c3d079f-7b7e-4437-8118-068344bd62ae"
   },
   "outputs": [
    {
     "name": "stderr",
     "output_type": "stream",
     "text": [
      "/usr/local/lib/python3.6/dist-packages/ipykernel_launcher.py:8: DeprecationWarning: Call to deprecated `__getitem__` (Method will be removed in 4.0.0, use self.wv.__getitem__() instead).\n",
      "  \n"
     ]
    }
   ],
   "source": [
    "words = list(model.wv.vocab)\n",
    "X,Y = Sent_Embeding_sequence(words,Documents)"
   ]
  },
  {
   "cell_type": "code",
   "execution_count": 11,
   "metadata": {
    "colab": {
     "autoexec": {
      "startup": false,
      "wait_interval": 0
     },
     "base_uri": "https://localhost:8080/",
     "height": 34,
     "output_extras": [
      {
       "item_id": 1
      }
     ]
    },
    "colab_type": "code",
    "executionInfo": {
     "elapsed": 33862,
     "status": "ok",
     "timestamp": 1521555425287,
     "user": {
      "displayName": "Ala Bayoudh",
      "photoUrl": "https://lh3.googleusercontent.com/a/default-user=s128",
      "userId": "112506902794522806974"
     },
     "user_tz": -120
    },
    "id": "HzMTSx1H0qEq",
    "outputId": "24325769-0d9d-45d8-cf0f-006da26d617e"
   },
   "outputs": [
    {
     "name": "stdout",
     "output_type": "stream",
     "text": [
      "X Shape (38252, 100, 100)\n"
     ]
    }
   ],
   "source": [
    "import numpy as np\n",
    "X_a = np.array(X)\n",
    "del X\n",
    "#lista = np.reshape(lista, (len(lista),2, 3))\n",
    "print(\"X Shape\",X_a.shape)\n"
   ]
  },
  {
   "cell_type": "code",
   "execution_count": 0,
   "metadata": {
    "colab": {
     "autoexec": {
      "startup": false,
      "wait_interval": 0
     }
    },
    "colab_type": "code",
    "id": "5TC7flrNM35m"
   },
   "outputs": [],
   "source": [
    "from sklearn.model_selection import train_test_split\n",
    "#train test\n",
    "X_train, X_test, y_train, y_test = train_test_split(X_a, Y, test_size=0.15, random_state=1)\n",
    "#train dev\n",
    "X_train, X_val, y_train, y_val = train_test_split(X_train, y_train, test_size=0.15, random_state=1)"
   ]
  },
  {
   "cell_type": "code",
   "execution_count": 13,
   "metadata": {
    "colab": {
     "autoexec": {
      "startup": false,
      "wait_interval": 0
     },
     "base_uri": "https://localhost:8080/",
     "height": 119,
     "output_extras": [
      {
       "item_id": 1
      }
     ]
    },
    "colab_type": "code",
    "executionInfo": {
     "elapsed": 987,
     "status": "ok",
     "timestamp": 1521555471777,
     "user": {
      "displayName": "Ala Bayoudh",
      "photoUrl": "https://lh3.googleusercontent.com/a/default-user=s128",
      "userId": "112506902794522806974"
     },
     "user_tz": -120
    },
    "id": "R7puCswONBpw",
    "outputId": "8968a0d3-83b9-4a67-fd1d-9b3c8c8cfe3a"
   },
   "outputs": [
    {
     "name": "stdout",
     "output_type": "stream",
     "text": [
      "length X_train : 27636\n",
      "length y_train : 27636\n",
      "length X_test : 5738\n",
      "length y_test : 5738\n",
      "length X_val : 4878\n",
      "length y_val : 4878\n"
     ]
    }
   ],
   "source": [
    "print('length X_train :',len(X_train))\n",
    "print('length y_train :',len(y_train))\n",
    "print('length X_test :',len(X_test))\n",
    "print('length y_test :',len(y_test))\n",
    "print('length X_val :',len(X_val))\n",
    "print('length y_val :',len(y_val))"
   ]
  },
  {
   "cell_type": "markdown",
   "metadata": {
    "colab_type": "text",
    "id": "gKiYDSOI7_Kk"
   },
   "source": [
    "## LSTM\n",
    "#### On Batch Size\n",
    "\n",
    "A benefit of using Keras is that it is built on top of symbolic mathematical libraries such as TensorFlow and Theano for fast and efficient computation. This is needed with large neural networks.\n",
    "\n",
    "A downside of using these efficient libraries is that you must define the scope of your data upfront and for all time. Specifically, the batch size.\n",
    "\n",
    "The batch size limits the number of samples to be shown to the network before a weight update can be performed. This same limitation is then imposed when making predictions with the fit model.\n",
    "\n",
    "Specifically, the batch size used when fitting your model controls how many predictions you must make at a time.\n",
    "\n",
    "This is often not a problem when you want to make the same number predictions at a time as the batch size used during training.\n",
    "## 1st batch learning:\n",
    "- working on the whole dataset to perform learning\n",
    "- Batch gradient descent is a variation of the gradient descent algorithm that calculates the error for each example in the training dataset, but only updates the model after all training examples have been evaluated.\n",
    "-  (+) Fewer updates to the model means this variant of gradient descent is more computationally efficient than stochastic gradient descent\n",
    "-  (-) Model updates, and in turn training speed, may become very slow for large datasets.\n",
    "\n"
   ]
  },
  {
   "cell_type": "code",
   "execution_count": 0,
   "metadata": {
    "colab": {
     "autoexec": {
      "startup": false,
      "wait_interval": 0
     },
     "base_uri": "https://localhost:8080/",
     "height": 34,
     "output_extras": [
      {}
     ]
    },
    "colab_type": "code",
    "executionInfo": {
     "elapsed": 586,
     "status": "ok",
     "timestamp": 1521539730392,
     "user": {
      "displayName": "Ala Bayoudh",
      "photoUrl": "https://lh3.googleusercontent.com/a/default-user=s128",
      "userId": "112506902794522806974"
     },
     "user_tz": -120
    },
    "id": "86CUXRKbPSV-",
    "outputId": "b448d648-dc48-4738-e273-5ac73a0137f4"
   },
   "outputs": [
    {
     "data": {
      "text/plain": [
       "27636"
      ]
     },
     "execution_count": 26,
     "metadata": {
      "tags": []
     },
     "output_type": "execute_result"
    }
   ],
   "source": [
    "X_train.shape[0]"
   ]
  },
  {
   "cell_type": "code",
   "execution_count": 16,
   "metadata": {
    "colab": {
     "autoexec": {
      "startup": false,
      "wait_interval": 0
     },
     "base_uri": "https://localhost:8080/",
     "height": 221,
     "output_extras": [
      {
       "item_id": 1
      }
     ]
    },
    "colab_type": "code",
    "executionInfo": {
     "elapsed": 812,
     "status": "ok",
     "timestamp": 1521555520440,
     "user": {
      "displayName": "Ala Bayoudh",
      "photoUrl": "https://lh3.googleusercontent.com/a/default-user=s128",
      "userId": "112506902794522806974"
     },
     "user_tz": -120
    },
    "id": "k2GqjpPO5N1o",
    "outputId": "83d38db3-8078-4b5a-bab4-49c24c298317"
   },
   "outputs": [
    {
     "name": "stdout",
     "output_type": "stream",
     "text": [
      "_________________________________________________________________\n",
      "Layer (type)                 Output Shape              Param #   \n",
      "=================================================================\n",
      "lstm_1 (LSTM)                (None, 100)               80400     \n",
      "_________________________________________________________________\n",
      "dense_1 (Dense)              (None, 1)                 101       \n",
      "=================================================================\n",
      "Total params: 80,501\n",
      "Trainable params: 80,501\n",
      "Non-trainable params: 0\n",
      "_________________________________________________________________\n",
      "None\n"
     ]
    }
   ],
   "source": [
    "from keras.models import Sequential\n",
    "from keras.layers import Embedding,LSTM\n",
    "from keras.layers.core import Dense,Dropout\n",
    "from keras.wrappers.scikit_learn import KerasClassifier\n",
    "from keras.utils import np_utils\n",
    "from keras.optimizers import SGD,Adam,Nadam\n",
    "from keras import callbacks\n",
    "embed_dim = 100\n",
    "lstm_out = 100\n",
    "\n",
    "\n",
    "modelBatch = Sequential()\n",
    "modelBatch.add(LSTM(lstm_out, input_shape=(X_a.shape[1], X_a.shape[2])))# dropout_U = 0.2, dropout_W = 0.2)\n",
    "modelBatch.add(Dense(1,activation='sigmoid'))\n",
    "modelBatch.compile(loss='mean_squared_error',\n",
    "              optimizer='adam',\n",
    "              metrics=['binary_accuracy'])\n",
    "print(modelBatch.summary())"
   ]
  },
  {
   "cell_type": "code",
   "execution_count": 17,
   "metadata": {
    "colab": {
     "autoexec": {
      "startup": false,
      "wait_interval": 0
     },
     "base_uri": "https://localhost:8080/",
     "height": 751,
     "output_extras": [
      {
       "item_id": 1
      },
      {
       "item_id": 363
      },
      {
       "item_id": 555
      },
      {
       "item_id": 990
      },
      {
       "item_id": 1519
      },
      {
       "item_id": 2025
      },
      {
       "item_id": 2466
      },
      {
       "item_id": 2947
      },
      {
       "item_id": 3429
      },
      {
       "item_id": 3945
      },
      {
       "item_id": 4478
      },
      {
       "item_id": 5000
      },
      {
       "item_id": 5533
      },
      {
       "item_id": 6072
      },
      {
       "item_id": 6599
      },
      {
       "item_id": 7121
      },
      {
       "item_id": 7654
      },
      {
       "item_id": 8167
      },
      {
       "item_id": 8692
      },
      {
       "item_id": 9183
      },
      {
       "item_id": 9474
      }
     ]
    },
    "colab_type": "code",
    "executionInfo": {
     "elapsed": 2922385,
     "status": "ok",
     "timestamp": 1521558444690,
     "user": {
      "displayName": "Ala Bayoudh",
      "photoUrl": "https://lh3.googleusercontent.com/a/default-user=s128",
      "userId": "112506902794522806974"
     },
     "user_tz": -120
    },
    "id": "sTPHl8fyOT78",
    "outputId": "6ab0c6a3-2395-449f-d9cd-69a1418e146e"
   },
   "outputs": [
    {
     "name": "stderr",
     "output_type": "stream",
     "text": [
      "/usr/local/lib/python3.6/dist-packages/keras/models.py:942: UserWarning: The `nb_epoch` argument in `fit` has been renamed `epochs`.\n",
      "  warnings.warn('The `nb_epoch` argument in `fit` '\n"
     ]
    },
    {
     "name": "stdout",
     "output_type": "stream",
     "text": [
      "Epoch 1/20\n",
      "27636/27636 [==============================] - 146s 5ms/step - loss: 0.2447 - binary_accuracy: 0.5749\n",
      "Epoch 2/20\n",
      "  992/27636 [>.............................] - ETA: 2:20 - loss: 0.2411 - binary_accuracy: 0.597827636/27636 [==============================] - 146s 5ms/step - loss: 0.2439 - binary_accuracy: 0.5777\n",
      "Epoch 3/20\n",
      " 2944/27636 [==>...........................] - ETA: 2:09 - loss: 0.2417 - binary_accuracy: 0.588727636/27636 [==============================] - 146s 5ms/step - loss: 0.2438 - binary_accuracy: 0.5773\n",
      "Epoch 4/20\n",
      " 3840/27636 [===>..........................] - ETA: 2:05 - loss: 0.2438 - binary_accuracy: 0.575527636/27636 [==============================] - 146s 5ms/step - loss: 0.2351 - binary_accuracy: 0.6013\n",
      "Epoch 5/20\n",
      " 4256/27636 [===>..........................] - ETA: 2:02 - loss: 0.2049 - binary_accuracy: 0.670827636/27636 [==============================] - 146s 5ms/step - loss: 0.1979 - binary_accuracy: 0.6890\n",
      "Epoch 6/20\n",
      " 4448/27636 [===>..........................] - ETA: 2:02 - loss: 0.1881 - binary_accuracy: 0.711327636/27636 [==============================] - 146s 5ms/step - loss: 0.1839 - binary_accuracy: 0.7177\n",
      "Epoch 7/20\n",
      " 4544/27636 [===>..........................] - ETA: 2:01 - loss: 0.1712 - binary_accuracy: 0.740827636/27636 [==============================] - 145s 5ms/step - loss: 0.1720 - binary_accuracy: 0.7394\n",
      "Epoch 8/20\n",
      " 4576/27636 [===>..........................] - ETA: 2:00 - loss: 0.1653 - binary_accuracy: 0.757427636/27636 [==============================] - 144s 5ms/step - loss: 0.1619 - binary_accuracy: 0.7607\n",
      "Epoch 9/20\n",
      " 4608/27636 [====>.........................] - ETA: 2:00 - loss: 0.1515 - binary_accuracy: 0.776527636/27636 [==============================] - 145s 5ms/step - loss: 0.1531 - binary_accuracy: 0.7756\n",
      "Epoch 10/20\n",
      " 4576/27636 [===>..........................] - ETA: 2:01 - loss: 0.1420 - binary_accuracy: 0.791327636/27636 [==============================] - 146s 5ms/step - loss: 0.1447 - binary_accuracy: 0.7896\n",
      "Epoch 11/20\n",
      " 4576/27636 [===>..........................] - ETA: 2:02 - loss: 0.1359 - binary_accuracy: 0.807527636/27636 [==============================] - 147s 5ms/step - loss: 0.1369 - binary_accuracy: 0.8063\n",
      "Epoch 12/20\n",
      " 4576/27636 [===>..........................] - ETA: 2:01 - loss: 0.1271 - binary_accuracy: 0.817127636/27636 [==============================] - 145s 5ms/step - loss: 0.1296 - binary_accuracy: 0.8160\n",
      "Epoch 13/20\n",
      " 4576/27636 [===>..........................] - ETA: 2:02 - loss: 0.1213 - binary_accuracy: 0.833727636/27636 [==============================] - 147s 5ms/step - loss: 0.1242 - binary_accuracy: 0.8257\n",
      "Epoch 14/20\n",
      " 4576/27636 [===>..........................] - ETA: 2:02 - loss: 0.1135 - binary_accuracy: 0.846427636/27636 [==============================] - 146s 5ms/step - loss: 0.1155 - binary_accuracy: 0.8422\n",
      "Epoch 15/20\n",
      " 4576/27636 [===>..........................] - ETA: 2:02 - loss: 0.1072 - binary_accuracy: 0.854227636/27636 [==============================] - 147s 5ms/step - loss: 0.1091 - binary_accuracy: 0.8515\n",
      "Epoch 16/20\n",
      " 4576/27636 [===>..........................] - ETA: 2:00 - loss: 0.1022 - binary_accuracy: 0.861727636/27636 [==============================] - 146s 5ms/step - loss: 0.1022 - binary_accuracy: 0.8616\n",
      "Epoch 17/20\n",
      " 4576/27636 [===>..........................] - ETA: 2:03 - loss: 0.0964 - binary_accuracy: 0.872627636/27636 [==============================] - 148s 5ms/step - loss: 0.0965 - binary_accuracy: 0.8719\n",
      "Epoch 18/20\n",
      " 4576/27636 [===>..........................] - ETA: 2:03 - loss: 0.0811 - binary_accuracy: 0.895327636/27636 [==============================] - 147s 5ms/step - loss: 0.0902 - binary_accuracy: 0.8821\n",
      "Epoch 19/20\n",
      " 4576/27636 [===>..........................] - ETA: 2:01 - loss: 0.0785 - binary_accuracy: 0.903827636/27636 [==============================] - 146s 5ms/step - loss: 0.0838 - binary_accuracy: 0.8929\n",
      "Epoch 20/20\n",
      " 4576/27636 [===>..........................] - ETA: 2:02 - loss: 0.0749 - binary_accuracy: 0.905227636/27636 [==============================] - 147s 5ms/step - loss: 0.0792 - binary_accuracy: 0.8992\n"
     ]
    }
   ],
   "source": [
    "historyBatch = modelBatch.fit(X_train, y_train, nb_epoch = 20)"
   ]
  },
  {
   "cell_type": "code",
   "execution_count": 18,
   "metadata": {
    "colab": {
     "autoexec": {
      "startup": false,
      "wait_interval": 0
     },
     "base_uri": "https://localhost:8080/",
     "height": 34,
     "output_extras": [
      {
       "item_id": 24
      }
     ]
    },
    "colab_type": "code",
    "executionInfo": {
     "elapsed": 7430,
     "status": "ok",
     "timestamp": 1521558462177,
     "user": {
      "displayName": "Ala Bayoudh",
      "photoUrl": "https://lh3.googleusercontent.com/a/default-user=s128",
      "userId": "112506902794522806974"
     },
     "user_tz": -120
    },
    "id": "Rv7ifTkXOfbs",
    "outputId": "0a388a8f-c5a6-4ffa-d411-6ef1afaefcde"
   },
   "outputs": [
    {
     "name": "stdout",
     "output_type": "stream",
     "text": [
      "4878/4878 [==============================] - 7s 1ms/step\n"
     ]
    }
   ],
   "source": [
    "scoreBatch = modelBatch.evaluate(np.array(X_val),y_val)"
   ]
  },
  {
   "cell_type": "code",
   "execution_count": 19,
   "metadata": {
    "colab": {
     "autoexec": {
      "startup": false,
      "wait_interval": 0
     },
     "base_uri": "https://localhost:8080/",
     "height": 34,
     "output_extras": [
      {
       "item_id": 1
      }
     ]
    },
    "colab_type": "code",
    "executionInfo": {
     "elapsed": 555,
     "status": "ok",
     "timestamp": 1521558463695,
     "user": {
      "displayName": "Ala Bayoudh",
      "photoUrl": "https://lh3.googleusercontent.com/a/default-user=s128",
      "userId": "112506902794522806974"
     },
     "user_tz": -120
    },
    "id": "V2poPysdbv5W",
    "outputId": "841f8d30-517a-4cce-8d47-990a2169ec87"
   },
   "outputs": [
    {
     "data": {
      "text/plain": [
       "[0.1689953310548795, 0.775932759278717]"
      ]
     },
     "execution_count": 19,
     "metadata": {
      "tags": []
     },
     "output_type": "execute_result"
    }
   ],
   "source": [
    "scoreBatch"
   ]
  },
  {
   "cell_type": "code",
   "execution_count": 21,
   "metadata": {
    "colab": {
     "autoexec": {
      "startup": false,
      "wait_interval": 0
     },
     "base_uri": "https://localhost:8080/",
     "height": 298,
     "output_extras": [
      {
       "item_id": 1
      }
     ]
    },
    "colab_type": "code",
    "executionInfo": {
     "elapsed": 927,
     "status": "ok",
     "timestamp": 1521558480344,
     "user": {
      "displayName": "Ala Bayoudh",
      "photoUrl": "https://lh3.googleusercontent.com/a/default-user=s128",
      "userId": "112506902794522806974"
     },
     "user_tz": -120
    },
    "id": "dlEaw1qBWaag",
    "outputId": "60088f1f-0b1c-4c14-e890-abe9db4b045b"
   },
   "outputs": [
    {
     "data": {
      "image/png": "[encoded data removed]",
      "text/plain": [
       "<matplotlib.figure.Figure at 0x7f1e9e97ccf8>"
      ]
     },
     "metadata": {
      "tags": []
     },
     "output_type": "display_data"
    }
   ],
   "source": [
    "from matplotlib import pyplot as plt\n",
    "plt.style.use('ggplot')\n",
    "%matplotlib inline\n",
    "\n",
    "plt.plot(historyBatch.history['loss'])\n",
    "plt.title('model loss')\n",
    "plt.ylabel('loss')\n",
    "plt.xlabel('epoch')\n",
    "plt.legend(['train'], loc='upper left')\n",
    "plt.show()"
   ]
  },
  {
   "cell_type": "markdown",
   "metadata": {
    "colab_type": "text",
    "id": "fdztrx47EgnK"
   },
   "source": [
    "### Save Batch LSTM model"
   ]
  },
  {
   "cell_type": "code",
   "execution_count": 0,
   "metadata": {
    "colab": {
     "autoexec": {
      "startup": false,
      "wait_interval": 0
     }
    },
    "colab_type": "code",
    "id": "M3-tep1hEgCh"
   },
   "outputs": [],
   "source": [
    "from keras.models import load_model\n",
    "modelBatch.save('LSTMBatch_Model.h5')  # creates a HDF5 file 'my_model.h5'\n",
    "del modelBatch  # deletes the existing model\n",
    "\n",
    "# returns a compiled model\n",
    "# identical to the previous one\n",
    "modelBatch = load_model('LSTMBatch_Model.h5')"
   ]
  },
  {
   "cell_type": "code",
   "execution_count": 23,
   "metadata": {
    "colab": {
     "autoexec": {
      "startup": false,
      "wait_interval": 0
     },
     "base_uri": "https://localhost:8080/",
     "height": 51,
     "output_extras": [
      {
       "item_id": 25
      },
      {
       "item_id": 26
      }
     ]
    },
    "colab_type": "code",
    "executionInfo": {
     "elapsed": 7523,
     "status": "ok",
     "timestamp": 1521558553637,
     "user": {
      "displayName": "Ala Bayoudh",
      "photoUrl": "https://lh3.googleusercontent.com/a/default-user=s128",
      "userId": "112506902794522806974"
     },
     "user_tz": -120
    },
    "id": "LnVaVLis9K8b",
    "outputId": "d412f2cf-a7ee-4d02-8d2a-e1f22897c0b5"
   },
   "outputs": [
    {
     "name": "stdout",
     "output_type": "stream",
     "text": [
      "4878/4878 [==============================] - 7s 1ms/step\n"
     ]
    },
    {
     "data": {
      "text/plain": [
       "[0.1689953310548795, 0.775932759278717]"
      ]
     },
     "execution_count": 23,
     "metadata": {
      "tags": []
     },
     "output_type": "execute_result"
    }
   ],
   "source": [
    "modelBatch.evaluate(np.array(X_val),y_val)\n"
   ]
  },
  {
   "cell_type": "code",
   "execution_count": 0,
   "metadata": {
    "colab": {
     "autoexec": {
      "startup": false,
      "wait_interval": 0
     }
    },
    "colab_type": "code",
    "id": "H_ZPjBiD9XxC"
   },
   "outputs": [],
   "source": [
    "del modelBatch"
   ]
  },
  {
   "cell_type": "code",
   "execution_count": 0,
   "metadata": {
    "colab": {
     "autoexec": {
      "startup": false,
      "wait_interval": 0
     }
    },
    "colab_type": "code",
    "id": "1WNEqVpORO5R"
   },
   "outputs": [],
   "source": [
    "from google.colab import files\n",
    "files.download('LSTMBatch_Model.h5')"
   ]
  },
  {
   "cell_type": "markdown",
   "metadata": {
    "colab_type": "text",
    "id": "lPsN8yZsets-"
   },
   "source": [
    "### LSTM : 1 Layer Mini batch gradient decent\n",
    "-  100 neurones\n",
    "-  batch size 128\n",
    "-  Mini-batch gradient descent is the recommended variant of gradient descent for most applications, especially in deep learning.\n",
    "-  Mini-batch sizes, commonly called “batch sizes” for brevity, are often tuned to an aspect of the computational architecture on which the implementation is being executed. Such as a power of two that fits the memory requirements of the GPU or CPU hardware like 32, 64, 128, 256, and so on.\n"
   ]
  },
  {
   "cell_type": "code",
   "execution_count": 0,
   "metadata": {
    "colab": {
     "autoexec": {
      "startup": false,
      "wait_interval": 0
     },
     "base_uri": "https://localhost:8080/",
     "height": 3924,
     "output_extras": [
      {},
      {},
      {},
      {},
      {},
      {},
      {},
      {},
      {},
      {},
      {},
      {},
      {},
      {},
      {},
      {},
      {},
      {},
      {},
      {},
      {},
      {},
      {},
      {},
      {},
      {},
      {},
      {},
      {},
      {},
      {},
      {},
      {},
      {},
      {},
      {},
      {},
      {},
      {},
      {},
      {},
      {},
      {},
      {},
      {},
      {},
      {},
      {},
      {},
      {}
     ]
    },
    "colab_type": "code",
    "id": "x-D2mOzdesc8",
    "outputId": "44f92b57-03a4-4914-95d5-aedc37aabc4e"
   },
   "outputs": [
    {
     "name": "stderr",
     "output_type": "stream",
     "text": [
      "/usr/local/lib/python3.6/dist-packages/ipykernel_launcher.py:6: UserWarning: Update your `LSTM` call to the Keras 2 API: `LSTM(100, input_shape=(100, 100), dropout=0.2, recurrent_dropout=0.2)`\n",
      "  \n"
     ]
    },
    {
     "name": "stdout",
     "output_type": "stream",
     "text": [
      "_________________________________________________________________\n",
      "Layer (type)                 Output Shape              Param #   \n",
      "=================================================================\n",
      "lstm_13 (LSTM)               (None, 100)               80400     \n",
      "_________________________________________________________________\n",
      "dense_13 (Dense)             (None, 1)                 101       \n",
      "=================================================================\n",
      "Total params: 80,501\n",
      "Trainable params: 80,501\n",
      "Non-trainable params: 0\n",
      "_________________________________________________________________\n",
      "None\n"
     ]
    },
    {
     "name": "stderr",
     "output_type": "stream",
     "text": [
      "/usr/local/lib/python3.6/dist-packages/keras/models.py:942: UserWarning: The `nb_epoch` argument in `fit` has been renamed `epochs`.\n",
      "  warnings.warn('The `nb_epoch` argument in `fit` '\n"
     ]
    },
    {
     "name": "stdout",
     "output_type": "stream",
     "text": [
      "Epoch 1/100\n",
      "27636/27636 [==============================] - 42s 2ms/step - loss: 0.2447 - binary_accuracy: 0.5763\n",
      "Epoch 2/100\n",
      "27636/27636 [==============================] - 41s 1ms/step - loss: 0.2420 - binary_accuracy: 0.5848\n",
      "Epoch 3/100\n",
      "10496/27636 [==========>...................] - ETA: 25s - loss: 0.2403 - binary_accuracy: 0.600727636/27636 [==============================] - 41s 2ms/step - loss: 0.2437 - binary_accuracy: 0.5816\n",
      "Epoch 4/100\n",
      "27636/27636 [==============================] - 41s 1ms/step - loss: 0.2445 - binary_accuracy: 0.5770\n",
      "Epoch 5/100\n",
      "16512/27636 [================>.............] - ETA: 16s - loss: 0.2439 - binary_accuracy: 0.577827636/27636 [==============================] - 41s 1ms/step - loss: 0.2440 - binary_accuracy: 0.5774\n",
      "Epoch 6/100\n",
      "27636/27636 [==============================] - 41s 1ms/step - loss: 0.2426 - binary_accuracy: 0.5801\n",
      "Epoch 7/100\n",
      "18304/27636 [==================>...........] - ETA: 13s - loss: 0.2287 - binary_accuracy: 0.624327636/27636 [==============================] - 41s 1ms/step - loss: 0.2239 - binary_accuracy: 0.6364\n",
      "Epoch 8/100\n",
      "27636/27636 [==============================] - 41s 1ms/step - loss: 0.2080 - binary_accuracy: 0.6713\n",
      "Epoch 9/100\n",
      "18304/27636 [==================>...........] - ETA: 13s - loss: 0.2026 - binary_accuracy: 0.679027636/27636 [==============================] - 41s 2ms/step - loss: 0.2016 - binary_accuracy: 0.6813\n",
      "Epoch 10/100\n",
      "27636/27636 [==============================] - 41s 1ms/step - loss: 0.1962 - binary_accuracy: 0.6962\n",
      "Epoch 11/100\n",
      "18560/27636 [===================>..........] - ETA: 13s - loss: 0.1921 - binary_accuracy: 0.700727636/27636 [==============================] - 41s 1ms/step - loss: 0.1925 - binary_accuracy: 0.7003\n",
      "Epoch 12/100\n",
      "27636/27636 [==============================] - 41s 1ms/step - loss: 0.1888 - binary_accuracy: 0.7064\n",
      "Epoch 13/100\n",
      "18560/27636 [===================>..........] - ETA: 13s - loss: 0.1848 - binary_accuracy: 0.717027636/27636 [==============================] - 41s 1ms/step - loss: 0.1850 - binary_accuracy: 0.7166\n",
      "Epoch 14/100\n",
      "27636/27636 [==============================] - 41s 1ms/step - loss: 0.1823 - binary_accuracy: 0.7218\n",
      "Epoch 15/100\n",
      "18304/27636 [==================>...........] - ETA: 14s - loss: 0.1781 - binary_accuracy: 0.727527636/27636 [==============================] - 41s 1ms/step - loss: 0.1772 - binary_accuracy: 0.7294\n",
      "Epoch 16/100\n",
      "27636/27636 [==============================] - 41s 1ms/step - loss: 0.1743 - binary_accuracy: 0.7364\n",
      "Epoch 17/100\n",
      "18432/27636 [===================>..........] - ETA: 13s - loss: 0.1696 - binary_accuracy: 0.743927636/27636 [==============================] - 41s 1ms/step - loss: 0.1709 - binary_accuracy: 0.7419\n",
      "Epoch 18/100\n",
      "27636/27636 [==============================] - 41s 1ms/step - loss: 0.1693 - binary_accuracy: 0.7462\n",
      "Epoch 19/100\n",
      "18432/27636 [===================>..........] - ETA: 13s - loss: 0.1652 - binary_accuracy: 0.753727636/27636 [==============================] - 41s 1ms/step - loss: 0.1651 - binary_accuracy: 0.7545\n",
      "Epoch 20/100\n",
      "27636/27636 [==============================] - 41s 1ms/step - loss: 0.1634 - binary_accuracy: 0.7567\n",
      "Epoch 21/100\n",
      "18304/27636 [==================>...........] - ETA: 13s - loss: 0.1593 - binary_accuracy: 0.768627636/27636 [==============================] - 41s 1ms/step - loss: 0.1609 - binary_accuracy: 0.7632\n",
      "Epoch 22/100\n",
      "27636/27636 [==============================] - 41s 1ms/step - loss: 0.1580 - binary_accuracy: 0.7651\n",
      "Epoch 23/100\n",
      "18176/27636 [==================>...........] - ETA: 14s - loss: 0.1570 - binary_accuracy: 0.770127636/27636 [==============================] - 41s 1ms/step - loss: 0.1561 - binary_accuracy: 0.7722\n",
      "Epoch 24/100\n",
      "27636/27636 [==============================] - 41s 1ms/step - loss: 0.1543 - binary_accuracy: 0.7740\n",
      "Epoch 25/100\n",
      "18304/27636 [==================>...........] - ETA: 13s - loss: 0.1518 - binary_accuracy: 0.780427636/27636 [==============================] - 41s 1ms/step - loss: 0.1520 - binary_accuracy: 0.7801\n",
      "Epoch 26/100\n",
      "27636/27636 [==============================] - 41s 1ms/step - loss: 0.1499 - binary_accuracy: 0.7788\n",
      "Epoch 27/100\n",
      "18560/27636 [===================>..........] - ETA: 13s - loss: 0.1484 - binary_accuracy: 0.783827636/27636 [==============================] - 41s 1ms/step - loss: 0.1488 - binary_accuracy: 0.7839\n",
      "Epoch 28/100\n",
      "27636/27636 [==============================] - 41s 1ms/step - loss: 0.1452 - binary_accuracy: 0.7903\n",
      "Epoch 29/100\n",
      "18304/27636 [==================>...........] - ETA: 13s - loss: 0.1440 - binary_accuracy: 0.792227636/27636 [==============================] - 41s 1ms/step - loss: 0.1439 - binary_accuracy: 0.7922\n",
      "Epoch 30/100\n",
      "27636/27636 [==============================] - 41s 1ms/step - loss: 0.1436 - binary_accuracy: 0.7940\n",
      "Epoch 31/100\n",
      "18432/27636 [===================>..........] - ETA: 13s - loss: 0.1412 - binary_accuracy: 0.796327636/27636 [==============================] - 41s 1ms/step - loss: 0.1409 - binary_accuracy: 0.7960\n",
      "Epoch 32/100\n",
      "27636/27636 [==============================] - 41s 1ms/step - loss: 0.1387 - binary_accuracy: 0.8023\n",
      "Epoch 33/100\n",
      "18304/27636 [==================>...........] - ETA: 13s - loss: 0.1385 - binary_accuracy: 0.802527636/27636 [==============================] - 41s 1ms/step - loss: 0.1375 - binary_accuracy: 0.8043\n",
      "Epoch 34/100\n",
      "27636/27636 [==============================] - 41s 1ms/step - loss: 0.1369 - binary_accuracy: 0.8044\n",
      "Epoch 35/100\n",
      "18304/27636 [==================>...........] - ETA: 13s - loss: 0.1359 - binary_accuracy: 0.805127636/27636 [==============================] - 41s 1ms/step - loss: 0.1366 - binary_accuracy: 0.8050\n",
      "Epoch 36/100\n",
      "27636/27636 [==============================] - 41s 1ms/step - loss: 0.1351 - binary_accuracy: 0.8078\n",
      "Epoch 37/100\n",
      "18304/27636 [==================>...........] - ETA: 13s - loss: 0.1306 - binary_accuracy: 0.814627636/27636 [==============================] - 41s 1ms/step - loss: 0.1317 - binary_accuracy: 0.8117\n",
      "Epoch 38/100\n",
      "27636/27636 [==============================] - 41s 1ms/step - loss: 0.1325 - binary_accuracy: 0.8119\n",
      "Epoch 39/100\n",
      "18432/27636 [===================>..........] - ETA: 13s - loss: 0.1297 - binary_accuracy: 0.814727636/27636 [==============================] - 41s 1ms/step - loss: 0.1309 - binary_accuracy: 0.8144\n",
      "Epoch 40/100\n",
      "27636/27636 [==============================] - 41s 1ms/step - loss: 0.1297 - binary_accuracy: 0.8159\n",
      "Epoch 41/100\n",
      "18432/27636 [===================>..........] - ETA: 13s - loss: 0.1281 - binary_accuracy: 0.818327636/27636 [==============================] - 41s 1ms/step - loss: 0.1297 - binary_accuracy: 0.8157\n",
      "Epoch 42/100\n",
      "27636/27636 [==============================] - 41s 1ms/step - loss: 0.1281 - binary_accuracy: 0.8186\n",
      "Epoch 43/100\n",
      "18304/27636 [==================>...........] - ETA: 13s - loss: 0.1257 - binary_accuracy: 0.823027636/27636 [==============================] - 41s 1ms/step - loss: 0.1261 - binary_accuracy: 0.8211\n",
      "Epoch 44/100\n",
      "27636/27636 [==============================] - 41s 1ms/step - loss: 0.1250 - binary_accuracy: 0.8253\n",
      "Epoch 45/100\n",
      "18048/27636 [==================>...........] - ETA: 14s - loss: 0.1236 - binary_accuracy: 0.826927636/27636 [==============================] - 41s 1ms/step - loss: 0.1241 - binary_accuracy: 0.8256\n",
      "Epoch 46/100\n",
      "27636/27636 [==============================] - 41s 1ms/step - loss: 0.1233 - binary_accuracy: 0.8256\n",
      "Epoch 47/100\n",
      "18304/27636 [==================>...........] - ETA: 13s - loss: 0.1209 - binary_accuracy: 0.829927636/27636 [==============================] - 41s 1ms/step - loss: 0.1217 - binary_accuracy: 0.8282\n",
      "Epoch 48/100\n",
      "27636/27636 [==============================] - 41s 1ms/step - loss: 0.1218 - binary_accuracy: 0.8295\n",
      "Epoch 49/100\n",
      "18560/27636 [===================>..........] - ETA: 13s - loss: 0.1212 - binary_accuracy: 0.829727636/27636 [==============================] - 41s 1ms/step - loss: 0.1208 - binary_accuracy: 0.8293\n",
      "Epoch 50/100\n",
      "27636/27636 [==============================] - 41s 1ms/step - loss: 0.1191 - binary_accuracy: 0.8324\n",
      "Epoch 51/100\n",
      "18816/27636 [===================>..........] - ETA: 13s - loss: 0.1194 - binary_accuracy: 0.832527636/27636 [==============================] - 41s 1ms/step - loss: 0.1196 - binary_accuracy: 0.8316\n",
      "Epoch 52/100\n",
      "27636/27636 [==============================] - 41s 1ms/step - loss: 0.1192 - binary_accuracy: 0.8318\n",
      "Epoch 53/100\n",
      "18304/27636 [==================>...........] - ETA: 13s - loss: 0.1165 - binary_accuracy: 0.837527636/27636 [==============================] - 41s 1ms/step - loss: 0.1176 - binary_accuracy: 0.8350\n",
      "Epoch 54/100\n",
      "27636/27636 [==============================] - 41s 1ms/step - loss: 0.1162 - binary_accuracy: 0.8377\n",
      "Epoch 55/100\n",
      "18176/27636 [==================>...........] - ETA: 14s - loss: 0.1173 - binary_accuracy: 0.836727636/27636 [==============================] - 41s 1ms/step - loss: 0.1175 - binary_accuracy: 0.8367\n",
      "Epoch 56/100\n",
      "27636/27636 [==============================] - 41s 1ms/step - loss: 0.1143 - binary_accuracy: 0.8405\n",
      "Epoch 57/100\n",
      "18048/27636 [==================>...........] - ETA: 14s - loss: 0.1178 - binary_accuracy: 0.834527636/27636 [==============================] - 41s 1ms/step - loss: 0.1167 - binary_accuracy: 0.8368\n",
      "Epoch 58/100\n",
      "27636/27636 [==============================] - 41s 1ms/step - loss: 0.1124 - binary_accuracy: 0.8449\n",
      "Epoch 59/100\n",
      "18432/27636 [===================>..........] - ETA: 13s - loss: 0.1107 - binary_accuracy: 0.845927636/27636 [==============================] - 41s 1ms/step - loss: 0.1108 - binary_accuracy: 0.8452\n",
      "Epoch 60/100\n",
      "27636/27636 [==============================] - 41s 1ms/step - loss: 0.1115 - binary_accuracy: 0.8449\n",
      "Epoch 61/100\n",
      "17920/27636 [==================>...........] - ETA: 14s - loss: 0.1115 - binary_accuracy: 0.846527636/27636 [==============================] - 41s 1ms/step - loss: 0.1117 - binary_accuracy: 0.8456\n",
      "Epoch 62/100\n",
      "27636/27636 [==============================] - 41s 1ms/step - loss: 0.1109 - binary_accuracy: 0.8474\n",
      "Epoch 63/100\n",
      "18432/27636 [===================>..........] - ETA: 13s - loss: 0.1070 - binary_accuracy: 0.854927636/27636 [==============================] - 41s 1ms/step - loss: 0.1094 - binary_accuracy: 0.8512\n",
      "Epoch 64/100\n",
      "27636/27636 [==============================] - 41s 1ms/step - loss: 0.1105 - binary_accuracy: 0.8472\n",
      "Epoch 65/100\n",
      "17920/27636 [==================>...........] - ETA: 14s - loss: 0.1082 - binary_accuracy: 0.850527636/27636 [==============================] - 41s 1ms/step - loss: 0.1090 - binary_accuracy: 0.8494\n",
      "Epoch 66/100\n",
      "27636/27636 [==============================] - 41s 1ms/step - loss: 0.1082 - binary_accuracy: 0.8521\n",
      "Epoch 67/100\n",
      "17920/27636 [==================>...........] - ETA: 14s - loss: 0.1066 - binary_accuracy: 0.855127636/27636 [==============================] - 41s 1ms/step - loss: 0.1068 - binary_accuracy: 0.8544\n",
      "Epoch 68/100\n",
      "27636/27636 [==============================] - 41s 1ms/step - loss: 0.1081 - binary_accuracy: 0.8539\n",
      "Epoch 69/100\n",
      "17920/27636 [==================>...........] - ETA: 14s - loss: 0.1071 - binary_accuracy: 0.852427636/27636 [==============================] - 41s 1ms/step - loss: 0.1069 - binary_accuracy: 0.8527\n",
      "Epoch 70/100\n",
      "27636/27636 [==============================] - 41s 1ms/step - loss: 0.1050 - binary_accuracy: 0.8561\n",
      "Epoch 71/100\n",
      "18432/27636 [===================>..........] - ETA: 13s - loss: 0.1041 - binary_accuracy: 0.857327636/27636 [==============================] - 41s 1ms/step - loss: 0.1062 - binary_accuracy: 0.8537\n",
      "Epoch 72/100\n",
      "27636/27636 [==============================] - 41s 1ms/step - loss: 0.1048 - binary_accuracy: 0.8560\n",
      "Epoch 73/100\n",
      "18304/27636 [==================>...........] - ETA: 13s - loss: 0.1057 - binary_accuracy: 0.854527636/27636 [==============================] - 41s 1ms/step - loss: 0.1049 - binary_accuracy: 0.8559\n",
      "Epoch 74/100\n",
      "27636/27636 [==============================] - 41s 1ms/step - loss: 0.1039 - binary_accuracy: 0.8582\n",
      "Epoch 75/100\n",
      "18304/27636 [==================>...........] - ETA: 13s - loss: 0.1013 - binary_accuracy: 0.860327636/27636 [==============================] - 41s 1ms/step - loss: 0.1023 - binary_accuracy: 0.8597\n",
      "Epoch 76/100\n",
      "27636/27636 [==============================] - 41s 1ms/step - loss: 0.1025 - binary_accuracy: 0.8595\n",
      "Epoch 77/100\n",
      "18304/27636 [==================>...........] - ETA: 13s - loss: 0.1013 - binary_accuracy: 0.860127636/27636 [==============================] - 41s 1ms/step - loss: 0.1026 - binary_accuracy: 0.8577\n",
      "Epoch 78/100\n",
      "27636/27636 [==============================] - 41s 1ms/step - loss: 0.1030 - binary_accuracy: 0.8596\n",
      "Epoch 79/100\n",
      "18176/27636 [==================>...........] - ETA: 14s - loss: 0.1022 - binary_accuracy: 0.862527636/27636 [==============================] - 41s 1ms/step - loss: 0.1017 - binary_accuracy: 0.8623\n",
      "Epoch 80/100\n",
      "27636/27636 [==============================] - 41s 1ms/step - loss: 0.1020 - binary_accuracy: 0.8592\n",
      "Epoch 81/100\n",
      "18432/27636 [===================>..........] - ETA: 13s - loss: 0.1010 - binary_accuracy: 0.862327636/27636 [==============================] - 41s 1ms/step - loss: 0.1010 - binary_accuracy: 0.8612\n",
      "Epoch 82/100\n",
      "27636/27636 [==============================] - 41s 1ms/step - loss: 0.1005 - binary_accuracy: 0.8627\n",
      "Epoch 83/100\n",
      "18432/27636 [===================>..........] - ETA: 13s - loss: 0.1020 - binary_accuracy: 0.860127636/27636 [==============================] - 41s 1ms/step - loss: 0.1016 - binary_accuracy: 0.8616\n",
      "Epoch 84/100\n",
      "27636/27636 [==============================] - 41s 1ms/step - loss: 0.1002 - binary_accuracy: 0.8639\n",
      "Epoch 85/100\n",
      "18304/27636 [==================>...........] - ETA: 13s - loss: 0.0987 - binary_accuracy: 0.864927636/27636 [==============================] - 41s 1ms/step - loss: 0.0985 - binary_accuracy: 0.8651\n",
      "Epoch 86/100\n",
      "27636/27636 [==============================] - 41s 1ms/step - loss: 0.0992 - binary_accuracy: 0.8653\n",
      "Epoch 87/100\n",
      "18560/27636 [===================>..........] - ETA: 13s - loss: 0.0978 - binary_accuracy: 0.865827636/27636 [==============================] - 41s 1ms/step - loss: 0.0986 - binary_accuracy: 0.8646\n",
      "Epoch 88/100\n",
      "27636/27636 [==============================] - 41s 1ms/step - loss: 0.0980 - binary_accuracy: 0.8668\n",
      "Epoch 89/100\n",
      "18432/27636 [===================>..........] - ETA: 13s - loss: 0.0972 - binary_accuracy: 0.869127636/27636 [==============================] - 41s 1ms/step - loss: 0.0968 - binary_accuracy: 0.8695\n",
      "Epoch 90/100\n",
      "27636/27636 [==============================] - 41s 1ms/step - loss: 0.0963 - binary_accuracy: 0.8684\n",
      "Epoch 91/100\n",
      "18432/27636 [===================>..........] - ETA: 13s - loss: 0.0971 - binary_accuracy: 0.867727636/27636 [==============================] - 41s 1ms/step - loss: 0.0975 - binary_accuracy: 0.8670\n",
      "Epoch 92/100\n",
      "27636/27636 [==============================] - 41s 1ms/step - loss: 0.0964 - binary_accuracy: 0.8691\n",
      "Epoch 93/100\n",
      "18688/27636 [===================>..........] - ETA: 13s - loss: 0.0918 - binary_accuracy: 0.876427636/27636 [==============================] - 41s 1ms/step - loss: 0.0947 - binary_accuracy: 0.8721\n",
      "Epoch 94/100\n",
      "27636/27636 [==============================] - 41s 1ms/step - loss: 0.0951 - binary_accuracy: 0.8702\n",
      "Epoch 95/100\n",
      "13568/27636 [=============>................] - ETA: 20s - loss: 0.0947 - binary_accuracy: 0.8712"
     ]
    }
   ],
   "source": [
    "lstm_out = 100\n",
    "batch_size = 128\n",
    "\n",
    "model = Sequential()\n",
    "model.add(LSTM(lstm_out, input_shape=(X_a.shape[1], X_a.shape[2]), dropout_U = 0.2, dropout_W = 0.2))\n",
    "model.add(Dense(1,activation='sigmoid'))\n",
    "model.compile(loss='mean_squared_error',\n",
    "              optimizer='adam',\n",
    "              metrics=['binary_accuracy'])\n",
    "print(model.summary())\n",
    "history128 = model.fit(X_train, y_train, batch_size = batch_size, nb_epoch = 100)\n"
   ]
  },
  {
   "cell_type": "code",
   "execution_count": 0,
   "metadata": {
    "colab": {
     "autoexec": {
      "startup": false,
      "wait_interval": 0
     },
     "base_uri": "https://localhost:8080/",
     "height": 298,
     "output_extras": [
      {}
     ]
    },
    "colab_type": "code",
    "executionInfo": {
     "elapsed": 890,
     "status": "ok",
     "timestamp": 1521491968820,
     "user": {
      "displayName": "Ala Bayoudh",
      "photoUrl": "https://lh3.googleusercontent.com/a/default-user=s128",
      "userId": "112506902794522806974"
     },
     "user_tz": -120
    },
    "id": "4-VvZYyp_F9G",
    "outputId": "8066bcda-2b05-4e6c-fa60-a0430b492365"
   },
   "outputs": [
    {
     "data": {
      "image/png": "[encoded data removed]",
      "text/plain": [
       "<matplotlib.figure.Figure at 0x7fabfb19d9b0>"
      ]
     },
     "metadata": {
      "tags": []
     },
     "output_type": "display_data"
    }
   ],
   "source": [
    "plt.plot(history128.history['loss'])\n",
    "plt.title('model loss')\n",
    "plt.ylabel('loss')\n",
    "plt.xlabel('epoch')\n",
    "plt.legend(['train'], loc='upper left')\n",
    "plt.show()"
   ]
  },
  {
   "cell_type": "code",
   "execution_count": 0,
   "metadata": {
    "colab": {
     "autoexec": {
      "startup": false,
      "wait_interval": 0
     },
     "base_uri": "https://localhost:8080/",
     "height": 36,
     "output_extras": [
      {}
     ]
    },
    "colab_type": "code",
    "executionInfo": {
     "elapsed": 8202,
     "status": "ok",
     "timestamp": 1521492023412,
     "user": {
      "displayName": "Ala Bayoudh",
      "photoUrl": "https://lh3.googleusercontent.com/a/default-user=s128",
      "userId": "112506902794522806974"
     },
     "user_tz": -120
    },
    "id": "rSkrb30r_T-C",
    "outputId": "6fbfcb7d-d5dc-4ee6-f70b-a427dd393b6e"
   },
   "outputs": [
    {
     "name": "stdout",
     "output_type": "stream",
     "text": [
      "4878/4878 [==============================] - 8s 2ms/step\n"
     ]
    }
   ],
   "source": [
    "score128 = model.evaluate(np.array(X_val),y_val)"
   ]
  },
  {
   "cell_type": "markdown",
   "metadata": {
    "colab_type": "text",
    "id": "N8jXuDg8_ruM"
   },
   "source": [
    "### 79% on validation best performence until now"
   ]
  },
  {
   "cell_type": "code",
   "execution_count": 0,
   "metadata": {
    "colab": {
     "autoexec": {
      "startup": false,
      "wait_interval": 0
     },
     "base_uri": "https://localhost:8080/",
     "height": 36,
     "output_extras": [
      {}
     ]
    },
    "colab_type": "code",
    "executionInfo": {
     "elapsed": 548,
     "status": "ok",
     "timestamp": 1521492032112,
     "user": {
      "displayName": "Ala Bayoudh",
      "photoUrl": "https://lh3.googleusercontent.com/a/default-user=s128",
      "userId": "112506902794522806974"
     },
     "user_tz": -120
    },
    "id": "hZOAqJJZ_eX6",
    "outputId": "11cbd8aa-7f14-4670-ec2c-c3d2f445b627"
   },
   "outputs": [
    {
     "data": {
      "text/plain": [
       "[0.14789183973019707, 0.7939729397782735]"
      ]
     },
     "execution_count": 98,
     "metadata": {
      "tags": []
     },
     "output_type": "execute_result"
    }
   ],
   "source": [
    "score128"
   ]
  },
  {
   "cell_type": "markdown",
   "metadata": {
    "colab_type": "text",
    "id": "Xxu4D5rH_9rW"
   },
   "source": [
    "### Let's try on test data now\n",
    "-  with all test exemples except one to see if the model can predict one exemple at a time\n",
    "-  we keep the last exemple of test"
   ]
  },
  {
   "cell_type": "code",
   "execution_count": 0,
   "metadata": {
    "colab": {
     "autoexec": {
      "startup": false,
      "wait_interval": 0
     },
     "base_uri": "https://localhost:8080/",
     "height": 36,
     "output_extras": [
      {}
     ]
    },
    "colab_type": "code",
    "executionInfo": {
     "elapsed": 570,
     "status": "ok",
     "timestamp": 1521492395870,
     "user": {
      "displayName": "Ala Bayoudh",
      "photoUrl": "https://lh3.googleusercontent.com/a/default-user=s128",
      "userId": "112506902794522806974"
     },
     "user_tz": -120
    },
    "id": "nf8buC8jAuF0",
    "outputId": "fcfee3df-d87b-4620-e0aa-e83e9b30de21"
   },
   "outputs": [
    {
     "data": {
      "text/plain": [
       "5737"
      ]
     },
     "execution_count": 104,
     "metadata": {
      "tags": []
     },
     "output_type": "execute_result"
    }
   ],
   "source": [
    "len(X_test[:-1])"
   ]
  },
  {
   "cell_type": "code",
   "execution_count": 0,
   "metadata": {
    "colab": {
     "autoexec": {
      "startup": false,
      "wait_interval": 0
     },
     "base_uri": "https://localhost:8080/",
     "height": 36,
     "output_extras": [
      {}
     ]
    },
    "colab_type": "code",
    "executionInfo": {
     "elapsed": 9212,
     "status": "ok",
     "timestamp": 1521492413540,
     "user": {
      "displayName": "Ala Bayoudh",
      "photoUrl": "https://lh3.googleusercontent.com/a/default-user=s128",
      "userId": "112506902794522806974"
     },
     "user_tz": -120
    },
    "id": "c4wUFptX_13i",
    "outputId": "3cb3c497-1fee-40a3-9c91-3a537d2325a0"
   },
   "outputs": [
    {
     "name": "stdout",
     "output_type": "stream",
     "text": [
      "5737/5737 [==============================] - 9s 2ms/step\n"
     ]
    }
   ],
   "source": [
    "score128_test = model.evaluate(np.array(X_test[:-1]),y_test[:-1])"
   ]
  },
  {
   "cell_type": "code",
   "execution_count": 0,
   "metadata": {
    "colab": {
     "autoexec": {
      "startup": false,
      "wait_interval": 0
     },
     "base_uri": "https://localhost:8080/",
     "height": 36,
     "output_extras": [
      {}
     ]
    },
    "colab_type": "code",
    "executionInfo": {
     "elapsed": 600,
     "status": "ok",
     "timestamp": 1521492417240,
     "user": {
      "displayName": "Ala Bayoudh",
      "photoUrl": "https://lh3.googleusercontent.com/a/default-user=s128",
      "userId": "112506902794522806974"
     },
     "user_tz": -120
    },
    "id": "EXpMtQOsAnLW",
    "outputId": "de8b4dc5-540a-42ad-b814-add2a26a84fa"
   },
   "outputs": [
    {
     "data": {
      "text/plain": [
       "[0.14900220963043556, 0.7937946662226267]"
      ]
     },
     "execution_count": 106,
     "metadata": {
      "tags": []
     },
     "output_type": "execute_result"
    }
   ],
   "source": [
    "score128_test"
   ]
  },
  {
   "cell_type": "code",
   "execution_count": 0,
   "metadata": {
    "colab": {
     "autoexec": {
      "startup": false,
      "wait_interval": 0
     },
     "base_uri": "https://localhost:8080/",
     "height": 36,
     "output_extras": [
      {}
     ]
    },
    "colab_type": "code",
    "executionInfo": {
     "elapsed": 1472,
     "status": "ok",
     "timestamp": 1521492485392,
     "user": {
      "displayName": "Ala Bayoudh",
      "photoUrl": "https://lh3.googleusercontent.com/a/default-user=s128",
      "userId": "112506902794522806974"
     },
     "user_tz": -120
    },
    "id": "UQYLn0q_BAM8",
    "outputId": "366570fb-ab50-461b-9035-42f1dba2784f"
   },
   "outputs": [
    {
     "name": "stdout",
     "output_type": "stream",
     "text": [
      "1/1 [==============================] - 0s 44ms/step\n"
     ]
    }
   ],
   "source": [
    "score128_test_one = model.evaluate(np.array(X_test[-1:]),y_test[-1:])"
   ]
  },
  {
   "cell_type": "code",
   "execution_count": 0,
   "metadata": {
    "colab": {
     "autoexec": {
      "startup": false,
      "wait_interval": 0
     },
     "base_uri": "https://localhost:8080/",
     "height": 36,
     "output_extras": [
      {}
     ]
    },
    "colab_type": "code",
    "executionInfo": {
     "elapsed": 500,
     "status": "ok",
     "timestamp": 1521492493418,
     "user": {
      "displayName": "Ala Bayoudh",
      "photoUrl": "https://lh3.googleusercontent.com/a/default-user=s128",
      "userId": "112506902794522806974"
     },
     "user_tz": -120
    },
    "id": "4HTUpg9SBPLI",
    "outputId": "981b5b12-8c5e-4046-9c57-e7e354ab9bdf"
   },
   "outputs": [
    {
     "data": {
      "text/plain": [
       "[0.1409723162651062, 1.0]"
      ]
     },
     "execution_count": 110,
     "metadata": {
      "tags": []
     },
     "output_type": "execute_result"
    }
   ],
   "source": [
    "score128_test_one"
   ]
  },
  {
   "cell_type": "code",
   "execution_count": 0,
   "metadata": {
    "colab": {
     "autoexec": {
      "startup": false,
      "wait_interval": 0
     }
    },
    "colab_type": "code",
    "id": "UgqWNS8QEacz"
   },
   "outputs": [],
   "source": [
    "predict_128 = model.predict_classes(np.array(X_test[:-1]))"
   ]
  },
  {
   "cell_type": "code",
   "execution_count": 0,
   "metadata": {
    "colab": {
     "autoexec": {
      "startup": false,
      "wait_interval": 0
     },
     "base_uri": "https://localhost:8080/",
     "height": 136,
     "output_extras": [
      {}
     ]
    },
    "colab_type": "code",
    "executionInfo": {
     "elapsed": 650,
     "status": "ok",
     "timestamp": 1521493379449,
     "user": {
      "displayName": "Ala Bayoudh",
      "photoUrl": "https://lh3.googleusercontent.com/a/default-user=s128",
      "userId": "112506902794522806974"
     },
     "user_tz": -120
    },
    "id": "KnmQyAQ_EnGw",
    "outputId": "6468b121-9ff7-4003-8567-124949560d80"
   },
   "outputs": [
    {
     "data": {
      "text/plain": [
       "array([[0],\n",
       "       [1],\n",
       "       [0],\n",
       "       ...,\n",
       "       [1],\n",
       "       [1],\n",
       "       [0]], dtype=int32)"
      ]
     },
     "execution_count": 122,
     "metadata": {
      "tags": []
     },
     "output_type": "execute_result"
    }
   ],
   "source": [
    "predict_128"
   ]
  },
  {
   "cell_type": "code",
   "execution_count": 0,
   "metadata": {
    "colab": {
     "autoexec": {
      "startup": false,
      "wait_interval": 0
     }
    },
    "colab_type": "code",
    "id": "TziykSk3EpwQ"
   },
   "outputs": [],
   "source": [
    "predict_128_one = model.predict_classes(np.array(X_test[-1:]))"
   ]
  },
  {
   "cell_type": "code",
   "execution_count": 0,
   "metadata": {
    "colab": {
     "autoexec": {
      "startup": false,
      "wait_interval": 0
     },
     "base_uri": "https://localhost:8080/",
     "height": 34,
     "output_extras": [
      {}
     ]
    },
    "colab_type": "code",
    "executionInfo": {
     "elapsed": 1006,
     "status": "ok",
     "timestamp": 1521493447827,
     "user": {
      "displayName": "Ala Bayoudh",
      "photoUrl": "https://lh3.googleusercontent.com/a/default-user=s128",
      "userId": "112506902794522806974"
     },
     "user_tz": -120
    },
    "id": "dS7fK6mKEttG",
    "outputId": "0479421a-2048-43c3-d026-73c94e3b9d5c"
   },
   "outputs": [
    {
     "name": "stdout",
     "output_type": "stream",
     "text": [
      "predicted : [[0]] true label [0]\n"
     ]
    }
   ],
   "source": [
    "print(\"predicted :\",predict_128_one,\"true label\",y_test[-1:])"
   ]
  },
  {
   "cell_type": "code",
   "execution_count": 0,
   "metadata": {
    "colab": {
     "autoexec": {
      "startup": false,
      "wait_interval": 0
     }
    },
    "colab_type": "code",
    "id": "-0ctGrjYBp3S"
   },
   "outputs": [],
   "source": [
    "model.save('LSTM_Model.h5')  # creates a HDF5 file 'my_model.h5'\n",
    "del model  # deletes the existing model\n",
    "\n",
    "# returns a compiled model\n",
    "# identical to the previous one\n",
    "model = load_model('LSTM_Model.h5')"
   ]
  },
  {
   "cell_type": "code",
   "execution_count": 0,
   "metadata": {
    "colab": {
     "autoexec": {
      "startup": false,
      "wait_interval": 0
     }
    },
    "colab_type": "code",
    "id": "WqfaPvoSCnum"
   },
   "outputs": [],
   "source": [
    "from google.colab import files\n",
    "files.download('LSTM_Model.h5')"
   ]
  },
  {
   "cell_type": "markdown",
   "metadata": {
    "colab_type": "text",
    "id": "Q9TSG9R5Hs4Y"
   },
   "source": [
    "### Stacked LSTM layer\n",
    "-  Now we try 3 stacked LSTM layer"
   ]
  },
  {
   "cell_type": "code",
   "execution_count": 28,
   "metadata": {
    "colab": {
     "autoexec": {
      "startup": false,
      "wait_interval": 0
     },
     "base_uri": "https://localhost:8080/",
     "height": 1023,
     "output_extras": [
      {
       "item_id": 1
      },
      {
       "item_id": 2
      },
      {
       "item_id": 519
      },
      {
       "item_id": 996
      },
      {
       "item_id": 1256
      },
      {
       "item_id": 1652
      },
      {
       "item_id": 2086
      },
      {
       "item_id": 2518
      },
      {
       "item_id": 2949
      },
      {
       "item_id": 3305
      },
      {
       "item_id": 3688
      },
      {
       "item_id": 3972
      }
     ]
    },
    "colab_type": "code",
    "executionInfo": {
     "elapsed": 2190189,
     "status": "ok",
     "timestamp": 1521560891524,
     "user": {
      "displayName": "Ala Bayoudh",
      "photoUrl": "https://lh3.googleusercontent.com/a/default-user=s128",
      "userId": "112506902794522806974"
     },
     "user_tz": -120
    },
    "id": "yr8uOWsJHaRX",
    "outputId": "38c101ee-1d9d-4712-ae79-720db750f10f"
   },
   "outputs": [
    {
     "name": "stdout",
     "output_type": "stream",
     "text": [
      "_________________________________________________________________\n",
      "Layer (type)                 Output Shape              Param #   \n",
      "=================================================================\n",
      "lstm_2 (LSTM)                (None, 100, 100)          80400     \n",
      "_________________________________________________________________\n",
      "lstm_3 (LSTM)                (None, 100, 32)           17024     \n",
      "_________________________________________________________________\n",
      "lstm_4 (LSTM)                (None, 32)                8320      \n",
      "_________________________________________________________________\n",
      "dense_2 (Dense)              (None, 1)                 33        \n",
      "=================================================================\n",
      "Total params: 105,777\n",
      "Trainable params: 105,777\n",
      "Non-trainable params: 0\n",
      "_________________________________________________________________\n",
      "None\n"
     ]
    },
    {
     "name": "stderr",
     "output_type": "stream",
     "text": [
      "/usr/local/lib/python3.6/dist-packages/keras/models.py:942: UserWarning: The `nb_epoch` argument in `fit` has been renamed `epochs`.\n",
      "  warnings.warn('The `nb_epoch` argument in `fit` '\n"
     ]
    },
    {
     "name": "stdout",
     "output_type": "stream",
     "text": [
      "Epoch 1/20\n",
      "27636/27636 [==============================] - 110s 4ms/step - loss: 0.2441 - binary_accuracy: 0.5754\n",
      "Epoch 2/20\n",
      "27636/27636 [==============================] - 110s 4ms/step - loss: 0.2446 - binary_accuracy: 0.5757\n",
      "Epoch 3/20\n",
      "11008/27636 [==========>...................] - ETA: 1:06 - loss: 0.2442 - binary_accuracy: 0.577327636/27636 [==============================] - 110s 4ms/step - loss: 0.2445 - binary_accuracy: 0.5755\n",
      "Epoch 4/20\n",
      "27636/27636 [==============================] - 110s 4ms/step - loss: 0.2444 - binary_accuracy: 0.5755\n",
      "Epoch 5/20\n",
      "16512/27636 [================>.............] - ETA: 44s - loss: 0.2443 - binary_accuracy: 0.576127636/27636 [==============================] - 110s 4ms/step - loss: 0.2444 - binary_accuracy: 0.5755\n",
      "Epoch 6/20\n",
      "27636/27636 [==============================] - 110s 4ms/step - loss: 0.2444 - binary_accuracy: 0.5755\n",
      "Epoch 7/20\n",
      "18176/27636 [==================>...........] - ETA: 37s - loss: 0.2442 - binary_accuracy: 0.576527636/27636 [==============================] - 110s 4ms/step - loss: 0.2444 - binary_accuracy: 0.5755\n",
      "Epoch 8/20\n",
      "27636/27636 [==============================] - 110s 4ms/step - loss: 0.2325 - binary_accuracy: 0.6048\n",
      "Epoch 9/20\n",
      "18688/27636 [===================>..........] - ETA: 35s - loss: 0.2037 - binary_accuracy: 0.678927636/27636 [==============================] - 110s 4ms/step - loss: 0.2019 - binary_accuracy: 0.6828\n",
      "Epoch 10/20\n",
      "27636/27636 [==============================] - 109s 4ms/step - loss: 0.1892 - binary_accuracy: 0.7061\n",
      "Epoch 11/20\n",
      "18688/27636 [===================>..........] - ETA: 35s - loss: 0.1815 - binary_accuracy: 0.720827636/27636 [==============================] - 109s 4ms/step - loss: 0.1812 - binary_accuracy: 0.7228\n",
      "Epoch 12/20\n",
      "27636/27636 [==============================] - 110s 4ms/step - loss: 0.1746 - binary_accuracy: 0.7347\n",
      "Epoch 13/20\n",
      "18688/27636 [===================>..........] - ETA: 35s - loss: 0.1695 - binary_accuracy: 0.745727636/27636 [==============================] - 109s 4ms/step - loss: 0.1689 - binary_accuracy: 0.7469\n",
      "Epoch 14/20\n",
      "27636/27636 [==============================] - 109s 4ms/step - loss: 0.1659 - binary_accuracy: 0.7504\n",
      "Epoch 15/20\n",
      "18688/27636 [===================>..........] - ETA: 35s - loss: 0.1603 - binary_accuracy: 0.761827636/27636 [==============================] - 109s 4ms/step - loss: 0.1613 - binary_accuracy: 0.7600\n",
      "Epoch 16/20\n",
      "27636/27636 [==============================] - 109s 4ms/step - loss: 0.1572 - binary_accuracy: 0.7686\n",
      "Epoch 17/20\n",
      "18688/27636 [===================>..........] - ETA: 35s - loss: 0.1519 - binary_accuracy: 0.776827636/27636 [==============================] - 108s 4ms/step - loss: 0.1529 - binary_accuracy: 0.7758\n",
      "Epoch 18/20\n",
      "27636/27636 [==============================] - 109s 4ms/step - loss: 0.1485 - binary_accuracy: 0.7842\n",
      "Epoch 19/20\n",
      "18688/27636 [===================>..........] - ETA: 35s - loss: 0.1441 - binary_accuracy: 0.791827636/27636 [==============================] - 109s 4ms/step - loss: 0.1448 - binary_accuracy: 0.7919\n",
      "Epoch 20/20\n",
      "27636/27636 [==============================] - 108s 4ms/step - loss: 0.1398 - binary_accuracy: 0.8001\n"
     ]
    }
   ],
   "source": [
    "lstm_out = 100\n",
    "batch_size = 128\n",
    "\n",
    "model3L = Sequential()\n",
    "model3L.add(LSTM(lstm_out,return_sequences=True, input_shape=(X_a.shape[1], X_a.shape[2])))#dropout_U = 0.2, dropout_W = 0.2)\n",
    "model3L.add(LSTM(32, return_sequences=True))  # returns a sequence of vectors of dimension 32\n",
    "model3L.add(LSTM(32))  # return a single vector of dimension 32\n",
    "model3L.add(Dense(1,activation='sigmoid'))\n",
    "model3L.compile(loss='mean_squared_error',\n",
    "              optimizer='adam',\n",
    "              metrics=['binary_accuracy'])\n",
    "print(model3L.summary())\n",
    "history128_3Layer = model3L.fit(X_train, y_train, batch_size = batch_size, nb_epoch = 20)"
   ]
  },
  {
   "cell_type": "code",
   "execution_count": 29,
   "metadata": {
    "colab": {
     "autoexec": {
      "startup": false,
      "wait_interval": 0
     },
     "base_uri": "https://localhost:8080/",
     "height": 34,
     "output_extras": [
      {
       "item_id": 63
      }
     ]
    },
    "colab_type": "code",
    "executionInfo": {
     "elapsed": 17962,
     "status": "ok",
     "timestamp": 1521560913290,
     "user": {
      "displayName": "Ala Bayoudh",
      "photoUrl": "https://lh3.googleusercontent.com/a/default-user=s128",
      "userId": "112506902794522806974"
     },
     "user_tz": -120
    },
    "id": "4uaqkYLZIUyQ",
    "outputId": "5ae34af3-4fa6-4bb0-8234-4f552b00c963"
   },
   "outputs": [
    {
     "name": "stdout",
     "output_type": "stream",
     "text": [
      "4878/4878 [==============================] - 17s 4ms/step\n"
     ]
    }
   ],
   "source": [
    "score3L = model3L.evaluate(np.array(X_val),y_val)"
   ]
  },
  {
   "cell_type": "code",
   "execution_count": 30,
   "metadata": {
    "colab": {
     "autoexec": {
      "startup": false,
      "wait_interval": 0
     },
     "base_uri": "https://localhost:8080/",
     "height": 34,
     "output_extras": [
      {
       "item_id": 1
      }
     ]
    },
    "colab_type": "code",
    "executionInfo": {
     "elapsed": 582,
     "status": "ok",
     "timestamp": 1521560926689,
     "user": {
      "displayName": "Ala Bayoudh",
      "photoUrl": "https://lh3.googleusercontent.com/a/default-user=s128",
      "userId": "112506902794522806974"
     },
     "user_tz": -120
    },
    "id": "OtHkarpkGSL3",
    "outputId": "893b1e1a-2d04-4a5a-cfd1-0bda41abb4c1"
   },
   "outputs": [
    {
     "data": {
      "text/plain": [
       "[0.15905393698558595, 0.7621976219517816]"
      ]
     },
     "execution_count": 30,
     "metadata": {
      "tags": []
     },
     "output_type": "execute_result"
    }
   ],
   "source": [
    "score3L"
   ]
  },
  {
   "cell_type": "code",
   "execution_count": 32,
   "metadata": {
    "colab": {
     "autoexec": {
      "startup": false,
      "wait_interval": 0
     },
     "base_uri": "https://localhost:8080/",
     "height": 298,
     "output_extras": [
      {
       "item_id": 1
      }
     ]
    },
    "colab_type": "code",
    "executionInfo": {
     "elapsed": 715,
     "status": "ok",
     "timestamp": 1521560969034,
     "user": {
      "displayName": "Ala Bayoudh",
      "photoUrl": "https://lh3.googleusercontent.com/a/default-user=s128",
      "userId": "112506902794522806974"
     },
     "user_tz": -120
    },
    "id": "K7kvkiYWGZTE",
    "outputId": "aae0356b-4515-47d9-b6ed-f23c1d93f498"
   },
   "outputs": [
    {
     "data": {
      "image/png": "[encoded data removed]",
      "text/plain": [
       "<matplotlib.figure.Figure at 0x7f1e9a468c50>"
      ]
     },
     "metadata": {
      "tags": []
     },
     "output_type": "display_data"
    }
   ],
   "source": [
    "plt.plot(history128_3Layer.history['loss'])\n",
    "plt.title('model loss')\n",
    "plt.ylabel('loss')\n",
    "plt.xlabel('epoch')\n",
    "plt.legend(['train'], loc='upper left')\n",
    "plt.show()"
   ]
  },
  {
   "cell_type": "markdown",
   "metadata": {
    "colab_type": "text",
    "id": "WaL8caglGnPS"
   },
   "source": [
    "#### Save LSTM stacked 3L model"
   ]
  },
  {
   "cell_type": "code",
   "execution_count": 0,
   "metadata": {
    "colab": {
     "autoexec": {
      "startup": false,
      "wait_interval": 0
     }
    },
    "colab_type": "code",
    "id": "noaDaGf4GZa4"
   },
   "outputs": [],
   "source": [
    "model3L.save('LSTM3L_Model.h5')  # creates a HDF5 file 'my_model.h5'\n",
    "del model3L # deletes the existing model\n",
    "\n",
    "# returns a compiled model\n",
    "# identical to the previous one\n",
    "model3L = load_model('LSTM3L_Model.h5')"
   ]
  },
  {
   "cell_type": "code",
   "execution_count": 0,
   "metadata": {
    "colab": {
     "autoexec": {
      "startup": false,
      "wait_interval": 0
     }
    },
    "colab_type": "code",
    "id": "j6X4CT7MG496"
   },
   "outputs": [],
   "source": [
    "from google.colab import files\n",
    "files.download('LSTM3L_Model.h5')"
   ]
  },
  {
   "cell_type": "markdown",
   "metadata": {
    "colab_type": "text",
    "id": "4eN9Er5JIJIy"
   },
   "source": [
    "### CNN + LSTM\n",
    "-  From Dimensional Sentiment Analysis Using a Regional CNN-LSTM Model paper https://www.aclweb.org/anthology/P/P16/P16-2037.pdf\n",
    "-  the  overall  framework  of  the  proposed  regional  CNN-LSTM  model.  First,  the  word  vectors  of  vocabulary words  are  trained from  a  large  corpus  using  the word2vec toolkit. For each given text, the regional CNN model uses a sentence as a region to divide the given text into R regions,  i.e. r1,...,ri rj, rk,..., rR.In  each region, useful  affective features  can  be  extracted once  the  word  vectors  sequentially pass  through a  convolutional  layer  and  maxpooling  layer.  Such local  (regional) features  are  then  sequentially integrated across  regions  using  LSTM to build a text vector for VA prediction.\n"
   ]
  },
  {
   "cell_type": "code",
   "execution_count": 41,
   "metadata": {
    "colab": {
     "autoexec": {
      "startup": false,
      "wait_interval": 0
     },
     "base_uri": "https://localhost:8080/",
     "height": 989,
     "output_extras": [
      {
       "item_id": 43
      },
      {
       "item_id": 246
      },
      {
       "item_id": 421
      },
      {
       "item_id": 594
      },
      {
       "item_id": 768
      },
      {
       "item_id": 937
      },
      {
       "item_id": 1107
      },
      {
       "item_id": 1273
      },
      {
       "item_id": 1444
      },
      {
       "item_id": 1613
      },
      {
       "item_id": 1693
      }
     ]
    },
    "colab_type": "code",
    "executionInfo": {
     "elapsed": 456687,
     "status": "ok",
     "timestamp": 1521562345763,
     "user": {
      "displayName": "Ala Bayoudh",
      "photoUrl": "https://lh3.googleusercontent.com/a/default-user=s128",
      "userId": "112506902794522806974"
     },
     "user_tz": -120
    },
    "id": "wTTwdPcum_oA",
    "outputId": "ff35584d-67b7-4681-f8fb-9f6af197a620"
   },
   "outputs": [
    {
     "name": "stdout",
     "output_type": "stream",
     "text": [
      "_________________________________________________________________\n",
      "Layer (type)                 Output Shape              Param #   \n",
      "=================================================================\n",
      "conv1d_3 (Conv1D)            (None, 100, 100)          30100     \n",
      "_________________________________________________________________\n",
      "max_pooling1d_2 (MaxPooling1 (None, 50, 100)           0         \n",
      "_________________________________________________________________\n",
      "lstm_6 (LSTM)                (None, 100)               80400     \n",
      "_________________________________________________________________\n",
      "dense_4 (Dense)              (None, 1)                 101       \n",
      "=================================================================\n",
      "Total params: 110,601\n",
      "Trainable params: 110,601\n",
      "Non-trainable params: 0\n",
      "_________________________________________________________________\n",
      "None\n",
      "Epoch 1/20\n",
      "12928/27636 [=============>................] - ETA: 13s - loss: 0.6715 - acc: 0.591727636/27636 [==============================] - 24s 859us/step - loss: 0.6407 - acc: 0.6275\n",
      "Epoch 2/20\n",
      "27636/27636 [==============================] - 23s 829us/step - loss: 0.5648 - acc: 0.7014\n",
      "Epoch 3/20\n",
      "22144/27636 [=======================>......] - ETA: 4s - loss: 0.5349 - acc: 0.729927636/27636 [==============================] - 23s 822us/step - loss: 0.5337 - acc: 0.7289\n",
      "Epoch 4/20\n",
      "27636/27636 [==============================] - 23s 814us/step - loss: 0.5134 - acc: 0.7439\n",
      "Epoch 5/20\n",
      "24832/27636 [=========================>....] - ETA: 2s - loss: 0.4925 - acc: 0.761427636/27636 [==============================] - 23s 815us/step - loss: 0.4921 - acc: 0.7616\n",
      "Epoch 6/20\n",
      "27636/27636 [==============================] - 23s 815us/step - loss: 0.4725 - acc: 0.7707\n",
      "Epoch 7/20\n",
      "25344/27636 [==========================>...] - ETA: 1s - loss: 0.4600 - acc: 0.778627636/27636 [==============================] - 23s 814us/step - loss: 0.4594 - acc: 0.7792\n",
      "Epoch 8/20\n",
      "27636/27636 [==============================] - 23s 821us/step - loss: 0.4533 - acc: 0.7832\n",
      "Epoch 9/20\n",
      "25600/27636 [==========================>...] - ETA: 1s - loss: 0.4285 - acc: 0.798827636/27636 [==============================] - 23s 822us/step - loss: 0.4285 - acc: 0.7989\n",
      "Epoch 10/20\n",
      "27636/27636 [==============================] - 23s 825us/step - loss: 0.4093 - acc: 0.8106\n",
      "Epoch 11/20\n",
      "25344/27636 [==========================>...] - ETA: 1s - loss: 0.3952 - acc: 0.819427636/27636 [==============================] - 23s 822us/step - loss: 0.3955 - acc: 0.8197\n",
      "Epoch 12/20\n",
      "27636/27636 [==============================] - 23s 822us/step - loss: 0.3748 - acc: 0.8321\n",
      "Epoch 13/20\n",
      "25472/27636 [==========================>...] - ETA: 1s - loss: 0.3595 - acc: 0.838927636/27636 [==============================] - 23s 823us/step - loss: 0.3617 - acc: 0.8366\n",
      "Epoch 14/20\n",
      "27636/27636 [==============================] - 23s 825us/step - loss: 0.3563 - acc: 0.8423\n",
      "Epoch 15/20\n",
      "25472/27636 [==========================>...] - ETA: 1s - loss: 0.3298 - acc: 0.855927636/27636 [==============================] - 23s 823us/step - loss: 0.3295 - acc: 0.8561\n",
      "Epoch 16/20\n",
      "27636/27636 [==============================] - 23s 826us/step - loss: 0.3075 - acc: 0.8680\n",
      "Epoch 17/20\n",
      "25216/27636 [==========================>...] - ETA: 1s - loss: 0.3048 - acc: 0.871027636/27636 [==============================] - 23s 824us/step - loss: 0.3038 - acc: 0.8717\n",
      "Epoch 18/20\n",
      "27636/27636 [==============================] - 23s 824us/step - loss: 0.2863 - acc: 0.8782\n",
      "Epoch 19/20\n",
      "25472/27636 [==========================>...] - ETA: 1s - loss: 0.2510 - acc: 0.896027636/27636 [==============================] - 23s 822us/step - loss: 0.2565 - acc: 0.8938\n",
      "Epoch 20/20\n",
      "27636/27636 [==============================] - 23s 819us/step - loss: 0.2450 - acc: 0.8988\n"
     ]
    }
   ],
   "source": [
    "from keras.layers import Conv1D,MaxPooling1D\n",
    "modelCNNLSTM = Sequential()\n",
    "\n",
    "modelCNNLSTM.add(Conv1D(filters=100, kernel_size=3, input_shape=(X_a.shape[1], X_a.shape[2]), padding='same', activation='relu'))\n",
    "modelCNNLSTM.add(MaxPooling1D(pool_size=2))\n",
    "modelCNNLSTM.add(LSTM(100))\n",
    "modelCNNLSTM.add(Dense(1, activation='sigmoid'))\n",
    "modelCNNLSTM.compile(loss='binary_crossentropy', optimizer='adam', metrics=['accuracy'])\n",
    "print(modelCNNLSTM.summary())\n",
    "HistoryCNNLSTM = modelCNNLSTM.fit(X_train, y_train, epochs=20, batch_size=128)\n"
   ]
  },
  {
   "cell_type": "code",
   "execution_count": 42,
   "metadata": {
    "colab": {
     "autoexec": {
      "startup": false,
      "wait_interval": 0
     },
     "base_uri": "https://localhost:8080/",
     "height": 34,
     "output_extras": [
      {
       "item_id": 16
      }
     ]
    },
    "colab_type": "code",
    "executionInfo": {
     "elapsed": 4550,
     "status": "ok",
     "timestamp": 1521562353885,
     "user": {
      "displayName": "Ala Bayoudh",
      "photoUrl": "https://lh3.googleusercontent.com/a/default-user=s128",
      "userId": "112506902794522806974"
     },
     "user_tz": -120
    },
    "id": "HjhMVK0BHrO4",
    "outputId": "f7ccff3d-d885-4262-aa12-73db4bd7415a"
   },
   "outputs": [
    {
     "name": "stdout",
     "output_type": "stream",
     "text": [
      "4878/4878 [==============================] - 4s 834us/step\n"
     ]
    }
   ],
   "source": [
    "scoreCNNLSTM = modelCNNLSTM.evaluate(np.array(X_val),y_val)"
   ]
  },
  {
   "cell_type": "code",
   "execution_count": 43,
   "metadata": {
    "colab": {
     "autoexec": {
      "startup": false,
      "wait_interval": 0
     },
     "base_uri": "https://localhost:8080/",
     "height": 34,
     "output_extras": [
      {
       "item_id": 1
      }
     ]
    },
    "colab_type": "code",
    "executionInfo": {
     "elapsed": 542,
     "status": "ok",
     "timestamp": 1521562355449,
     "user": {
      "displayName": "Ala Bayoudh",
      "photoUrl": "https://lh3.googleusercontent.com/a/default-user=s128",
      "userId": "112506902794522806974"
     },
     "user_tz": -120
    },
    "id": "TpKSQATpJ7g4",
    "outputId": "10f29d0e-2f51-43cb-86fd-0493d544ec8d"
   },
   "outputs": [
    {
     "data": {
      "text/plain": [
       "[0.6485775013398127, 0.7712177122259981]"
      ]
     },
     "execution_count": 43,
     "metadata": {
      "tags": []
     },
     "output_type": "execute_result"
    }
   ],
   "source": [
    "scoreCNNLSTM"
   ]
  },
  {
   "cell_type": "code",
   "execution_count": 44,
   "metadata": {
    "colab": {
     "autoexec": {
      "startup": false,
      "wait_interval": 0
     },
     "base_uri": "https://localhost:8080/",
     "height": 298,
     "output_extras": [
      {
       "item_id": 1
      }
     ]
    },
    "colab_type": "code",
    "executionInfo": {
     "elapsed": 565,
     "status": "ok",
     "timestamp": 1521562384235,
     "user": {
      "displayName": "Ala Bayoudh",
      "photoUrl": "https://lh3.googleusercontent.com/a/default-user=s128",
      "userId": "112506902794522806974"
     },
     "user_tz": -120
    },
    "id": "_iaxD0kNJ87r",
    "outputId": "255ed438-ca80-4a99-cde0-7f5b41d81237"
   },
   "outputs": [
    {
     "data": {
      "image/png": "[encoded data removed]",
      "text/plain": [
       "<matplotlib.figure.Figure at 0x7f1e958bb390>"
      ]
     },
     "metadata": {
      "tags": []
     },
     "output_type": "display_data"
    }
   ],
   "source": [
    "plt.plot(HistoryCNNLSTM.history['loss'])\n",
    "plt.title('model loss')\n",
    "plt.ylabel('loss')\n",
    "plt.xlabel('epoch')\n",
    "plt.legend(['train'], loc='upper left')\n",
    "plt.show()"
   ]
  },
  {
   "cell_type": "markdown",
   "metadata": {
    "colab_type": "text",
    "id": "q9UbfuT9L9vB"
   },
   "source": [
    "### CNN + LSTM Model"
   ]
  },
  {
   "cell_type": "code",
   "execution_count": 0,
   "metadata": {
    "colab": {
     "autoexec": {
      "startup": false,
      "wait_interval": 0
     }
    },
    "colab_type": "code",
    "id": "C4NgLs7HL3TB"
   },
   "outputs": [],
   "source": [
    "modelCNNLSTM.save('CNNLSTM_Model.h5')  # creates a HDF5 file 'my_model.h5'\n",
    "del modelCNNLSTM  # deletes the existing model\n",
    "\n",
    "# returns a compiled model\n",
    "# identical to the previous one\n",
    "modelCNNLSTM = load_model('CNNLSTM_Model.h5')"
   ]
  },
  {
   "cell_type": "code",
   "execution_count": 0,
   "metadata": {
    "colab": {
     "autoexec": {
      "startup": false,
      "wait_interval": 0
     }
    },
    "colab_type": "code",
    "id": "xVfb_cdfMH_7"
   },
   "outputs": [],
   "source": [
    "from google.colab import files\n",
    "files.download('CNNLSTM_Model.h5')"
   ]
  },
  {
   "cell_type": "markdown",
   "metadata": {
    "colab_type": "text",
    "id": "8itRFvUFM1iK"
   },
   "source": [
    "## bidirectional LSTM\n",
    "-  The idea of Bidirectional Recurrent Neural Networks (RNNs) is straightforward.\n",
    "-  It involves duplicating the first recurrent layer in the network so that there are now two layers side-by-side, then providing the input sequence as-is as input to the first layer and providing a reversed copy of the input sequence to the second."
   ]
  },
  {
   "cell_type": "code",
   "execution_count": 54,
   "metadata": {
    "colab": {
     "autoexec": {
      "startup": false,
      "wait_interval": 0
     },
     "base_uri": "https://localhost:8080/",
     "height": 819,
     "output_extras": [
      {
       "item_id": 107
      },
      {
       "item_id": 530
      },
      {
       "item_id": 948
      },
      {
       "item_id": 1362
      },
      {
       "item_id": 1775
      },
      {
       "item_id": 2191
      },
      {
       "item_id": 2610
      },
      {
       "item_id": 3029
      },
      {
       "item_id": 3121
      }
     ]
    },
    "colab_type": "code",
    "executionInfo": {
     "elapsed": 1122670,
     "status": "ok",
     "timestamp": 1521565041659,
     "user": {
      "displayName": "Ala Bayoudh",
      "photoUrl": "https://lh3.googleusercontent.com/a/default-user=s128",
      "userId": "112506902794522806974"
     },
     "user_tz": -120
    },
    "id": "FzEODoc9MLzt",
    "outputId": "bcc151a6-30cb-4f21-8975-11c894ca1759"
   },
   "outputs": [
    {
     "name": "stdout",
     "output_type": "stream",
     "text": [
      "_________________________________________________________________\n",
      "Layer (type)                 Output Shape              Param #   \n",
      "=================================================================\n",
      "bidirectional_4 (Bidirection (None, 128)               84480     \n",
      "_________________________________________________________________\n",
      "dropout_4 (Dropout)          (None, 128)               0         \n",
      "_________________________________________________________________\n",
      "dense_8 (Dense)              (None, 1)                 129       \n",
      "=================================================================\n",
      "Total params: 84,609\n",
      "Trainable params: 84,609\n",
      "Non-trainable params: 0\n",
      "_________________________________________________________________\n",
      "None\n",
      "Train...\n",
      "Train on 27636 samples, validate on 4878 samples\n",
      "Epoch 1/15\n",
      "14080/27636 [==============>...............] - ETA: 36s - loss: 0.6319 - acc: 0.638127636/27636 [==============================] - 76s 3ms/step - loss: 0.6107 - acc: 0.6597 - val_loss: 0.5810 - val_acc: 0.6835\n",
      "Epoch 2/15\n",
      "27636/27636 [==============================] - 74s 3ms/step - loss: 0.5611 - acc: 0.7044 - val_loss: 0.5664 - val_acc: 0.6855\n",
      "Epoch 3/15\n",
      "15232/27636 [===============>..............] - ETA: 32s - loss: 0.5402 - acc: 0.723827636/27636 [==============================] - 75s 3ms/step - loss: 0.5394 - acc: 0.7222 - val_loss: 0.5256 - val_acc: 0.7308\n",
      "Epoch 4/15\n",
      "27636/27636 [==============================] - 75s 3ms/step - loss: 0.5222 - acc: 0.7372 - val_loss: 0.5186 - val_acc: 0.7308\n",
      "Epoch 5/15\n",
      "15488/27636 [===============>..............] - ETA: 31s - loss: 0.5076 - acc: 0.745927636/27636 [==============================] - 75s 3ms/step - loss: 0.5074 - acc: 0.7465 - val_loss: 0.4986 - val_acc: 0.7450\n",
      "Epoch 6/15\n",
      "27636/27636 [==============================] - 75s 3ms/step - loss: 0.4963 - acc: 0.7525 - val_loss: 0.5008 - val_acc: 0.7431\n",
      "Epoch 7/15\n",
      "15616/27636 [===============>..............] - ETA: 31s - loss: 0.4833 - acc: 0.762927636/27636 [==============================] - 75s 3ms/step - loss: 0.4819 - acc: 0.7630 - val_loss: 0.4873 - val_acc: 0.7558\n",
      "Epoch 8/15\n",
      "27636/27636 [==============================] - 75s 3ms/step - loss: 0.4706 - acc: 0.7726 - val_loss: 0.4875 - val_acc: 0.7536\n",
      "Epoch 9/15\n",
      "15616/27636 [===============>..............] - ETA: 31s - loss: 0.4618 - acc: 0.779327636/27636 [==============================] - 75s 3ms/step - loss: 0.4617 - acc: 0.7778 - val_loss: 0.4912 - val_acc: 0.7573\n",
      "Epoch 10/15\n",
      "27636/27636 [==============================] - 75s 3ms/step - loss: 0.4512 - acc: 0.7835 - val_loss: 0.4855 - val_acc: 0.7575\n",
      "Epoch 11/15\n",
      "15360/27636 [===============>..............] - ETA: 31s - loss: 0.4342 - acc: 0.795427636/27636 [==============================] - 75s 3ms/step - loss: 0.4365 - acc: 0.7936 - val_loss: 0.4825 - val_acc: 0.7565\n",
      "Epoch 12/15\n",
      "27636/27636 [==============================] - 75s 3ms/step - loss: 0.4260 - acc: 0.8004 - val_loss: 0.4814 - val_acc: 0.7608\n",
      "Epoch 13/15\n",
      "15360/27636 [===============>..............] - ETA: 31s - loss: 0.4193 - acc: 0.805127636/27636 [==============================] - 74s 3ms/step - loss: 0.4200 - acc: 0.8055 - val_loss: 0.4758 - val_acc: 0.7690\n",
      "Epoch 14/15\n",
      "27636/27636 [==============================] - 74s 3ms/step - loss: 0.4067 - acc: 0.8102 - val_loss: 0.4774 - val_acc: 0.7692\n",
      "Epoch 15/15\n",
      "15360/27636 [===============>..............] - ETA: 31s - loss: 0.3912 - acc: 0.818927636/27636 [==============================] - 75s 3ms/step - loss: 0.4004 - acc: 0.8134 - val_loss: 0.4781 - val_acc: 0.7661\n"
     ]
    }
   ],
   "source": [
    "from keras.layers import Dense, Dropout, Embedding, LSTM, Bidirectional\n",
    "from keras.datasets import imdb\n",
    "\n",
    "\n",
    "\n",
    "maxlen = 100\n",
    "batch_size = 128\n",
    "\n",
    "\n",
    "\n",
    "modelBiLstm = Sequential()\n",
    "modelBiLstm.add(Bidirectional(LSTM(64), input_shape=(X_a.shape[1], X_a.shape[2])))\n",
    "modelBiLstm.add(Dropout(0.5))\n",
    "modelBiLstm.add(Dense(1, activation='sigmoid'))\n",
    "\n",
    "# try using different optimizers and different optimizer configs\n",
    "modelBiLstm.compile('adam', 'binary_crossentropy', metrics=['accuracy'])\n",
    "print(modelBiLstm.summary())\n",
    "print('Train...')\n",
    "historyBilstm = modelBiLstm.fit(X_train, y_train,\n",
    "          batch_size=batch_size,\n",
    "          epochs=15,\n",
    "validation_data=[X_val, y_val])"
   ]
  },
  {
   "cell_type": "code",
   "execution_count": 55,
   "metadata": {
    "colab": {
     "autoexec": {
      "startup": false,
      "wait_interval": 0
     },
     "base_uri": "https://localhost:8080/",
     "height": 298,
     "output_extras": [
      {
       "item_id": 1
      }
     ]
    },
    "colab_type": "code",
    "executionInfo": {
     "elapsed": 827,
     "status": "ok",
     "timestamp": 1521565577972,
     "user": {
      "displayName": "Ala Bayoudh",
      "photoUrl": "https://lh3.googleusercontent.com/a/default-user=s128",
      "userId": "112506902794522806974"
     },
     "user_tz": -120
    },
    "id": "EqTXBVv3OSKz",
    "outputId": "a91d2e70-eecb-4576-ba52-83bd0fff32f1"
   },
   "outputs": [
    {
     "data": {
      "image/png": "[encoded data removed]",
      "text/plain": [
       "<matplotlib.figure.Figure at 0x7f1e90ef6898>"
      ]
     },
     "metadata": {
      "tags": []
     },
     "output_type": "display_data"
    }
   ],
   "source": [
    "plt.plot(historyBilstm.history['loss'])\n",
    "plt.plot(historyBilstm.history['val_loss'])\n",
    "plt.title('model loss')\n",
    "plt.ylabel('loss')\n",
    "plt.xlabel('epoch')\n",
    "plt.legend(['train', 'val'], loc='upper left')\n",
    "plt.show()"
   ]
  },
  {
   "cell_type": "code",
   "execution_count": 56,
   "metadata": {
    "colab": {
     "autoexec": {
      "startup": false,
      "wait_interval": 0
     },
     "base_uri": "https://localhost:8080/",
     "height": 298,
     "output_extras": [
      {
       "item_id": 1
      }
     ]
    },
    "colab_type": "code",
    "executionInfo": {
     "elapsed": 1625,
     "status": "ok",
     "timestamp": 1521565593082,
     "user": {
      "displayName": "Ala Bayoudh",
      "photoUrl": "https://lh3.googleusercontent.com/a/default-user=s128",
      "userId": "112506902794522806974"
     },
     "user_tz": -120
    },
    "id": "WG4-CXXXRosK",
    "outputId": "7d6886c7-84b2-459a-fe32-a6e22038e4a1"
   },
   "outputs": [
    {
     "data": {
      "image/png": "[encoded data removed]",
      "text/plain": [
       "<matplotlib.figure.Figure at 0x7f1e90f4bdd8>"
      ]
     },
     "metadata": {
      "tags": []
     },
     "output_type": "display_data"
    }
   ],
   "source": [
    "plt.plot(historyBilstm.history['acc'])\n",
    "plt.plot(historyBilstm.history['val_acc'])\n",
    "plt.title('model loss')\n",
    "plt.ylabel('loss')\n",
    "plt.xlabel('epoch')\n",
    "plt.legend(['train', 'val'], loc='upper left')\n",
    "plt.show()"
   ]
  },
  {
   "cell_type": "code",
   "execution_count": 57,
   "metadata": {
    "colab": {
     "autoexec": {
      "startup": false,
      "wait_interval": 0
     },
     "base_uri": "https://localhost:8080/",
     "height": 34,
     "output_extras": [
      {
       "item_id": 38
      }
     ]
    },
    "colab_type": "code",
    "executionInfo": {
     "elapsed": 12680,
     "status": "ok",
     "timestamp": 1521567144667,
     "user": {
      "displayName": "Ala Bayoudh",
      "photoUrl": "https://lh3.googleusercontent.com/a/default-user=s128",
      "userId": "112506902794522806974"
     },
     "user_tz": -120
    },
    "id": "e3jkV40Gdz-2",
    "outputId": "723242be-b73d-4125-a5f0-f7692917a343"
   },
   "outputs": [
    {
     "name": "stdout",
     "output_type": "stream",
     "text": [
      "4878/4878 [==============================] - 12s 2ms/step\n"
     ]
    }
   ],
   "source": [
    "scoreBiLSTM = modelBiLstm.evaluate(np.array(X_val),y_val)"
   ]
  },
  {
   "cell_type": "code",
   "execution_count": 58,
   "metadata": {
    "colab": {
     "autoexec": {
      "startup": false,
      "wait_interval": 0
     },
     "base_uri": "https://localhost:8080/",
     "height": 34,
     "output_extras": [
      {
       "item_id": 1
      }
     ]
    },
    "colab_type": "code",
    "executionInfo": {
     "elapsed": 586,
     "status": "ok",
     "timestamp": 1521567146212,
     "user": {
      "displayName": "Ala Bayoudh",
      "photoUrl": "https://lh3.googleusercontent.com/a/default-user=s128",
      "userId": "112506902794522806974"
     },
     "user_tz": -120
    },
    "id": "ZhjREsFKd_tP",
    "outputId": "3b08a727-d6d0-4a8c-af7d-a7c2e34564bc"
   },
   "outputs": [
    {
     "data": {
      "text/plain": [
       "[0.4781140277453161, 0.7660926609266092]"
      ]
     },
     "execution_count": 58,
     "metadata": {
      "tags": []
     },
     "output_type": "execute_result"
    }
   ],
   "source": [
    "scoreBiLSTM"
   ]
  },
  {
   "cell_type": "code",
   "execution_count": 59,
   "metadata": {
    "colab": {
     "autoexec": {
      "startup": false,
      "wait_interval": 0
     },
     "base_uri": "https://localhost:8080/",
     "height": 51,
     "output_extras": [
      {
       "item_id": 59
      },
      {
       "item_id": 60
      }
     ]
    },
    "colab_type": "code",
    "executionInfo": {
     "elapsed": 15143,
     "status": "ok",
     "timestamp": 1521567185072,
     "user": {
      "displayName": "Ala Bayoudh",
      "photoUrl": "https://lh3.googleusercontent.com/a/default-user=s128",
      "userId": "112506902794522806974"
     },
     "user_tz": -120
    },
    "id": "bLztrfyheDqB",
    "outputId": "9a85ac2c-5d8a-408f-caf4-b6c4aed99153"
   },
   "outputs": [
    {
     "name": "stdout",
     "output_type": "stream",
     "text": [
      "5738/5738 [==============================] - 15s 3ms/step\n"
     ]
    },
    {
     "data": {
      "text/plain": [
       "[0.4881193633277311, 0.7689090275565021]"
      ]
     },
     "execution_count": 59,
     "metadata": {
      "tags": []
     },
     "output_type": "execute_result"
    }
   ],
   "source": [
    "modelBiLstm.evaluate(np.array(X_test),y_test)"
   ]
  },
  {
   "cell_type": "code",
   "execution_count": 0,
   "metadata": {
    "colab": {
     "autoexec": {
      "startup": false,
      "wait_interval": 0
     }
    },
    "colab_type": "code",
    "id": "-I7iGtJQYGcW"
   },
   "outputs": [],
   "source": [
    "modelBiLstm.save('BILSTM_Model.h5')  # creates a HDF5 file 'my_model.h5'\n",
    "del modelBiLstm  # deletes the existing model\n",
    "\n",
    "# returns a compiled model\n",
    "# identical to the previous one\n",
    "modelBiLstm = load_model('BILSTM_Model.h5')"
   ]
  },
  {
   "cell_type": "code",
   "execution_count": 0,
   "metadata": {
    "colab": {
     "autoexec": {
      "startup": false,
      "wait_interval": 0
     }
    },
    "colab_type": "code",
    "id": "0a1uByd9dy96"
   },
   "outputs": [],
   "source": [
    "from google.colab import files\n",
    "files.download('BILSTM_Model.h5')"
   ]
  }
 ],
 "metadata": {
  "accelerator": "GPU",
  "colab": {
   "default_view": {},
   "name": "SentimentAnalysisClassificationWithLSTM.ipynb",
   "provenance": [],
   "version": "0.3.2",
   "views": {}
  },
  "kernelspec": {
   "display_name": "Python 3",
   "language": "python",
   "name": "python3"
  },
  "language_info": {
   "codemirror_mode": {
    "name": "ipython",
    "version": 3
   },
   "file_extension": ".py",
   "mimetype": "text/x-python",
   "name": "python",
   "nbconvert_exporter": "python",
   "pygments_lexer": "ipython3",
   "version": "3.7.4"
  }
 },
 "nbformat": 4,
 "nbformat_minor": 1
}
